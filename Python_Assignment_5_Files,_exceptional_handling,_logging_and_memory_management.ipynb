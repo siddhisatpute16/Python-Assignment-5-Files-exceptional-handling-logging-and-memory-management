{
  "nbformat": 4,
  "nbformat_minor": 0,
  "metadata": {
    "colab": {
      "provenance": []
    },
    "kernelspec": {
      "name": "python3",
      "display_name": "Python 3"
    },
    "language_info": {
      "name": "python"
    }
  },
  "cells": [
    {
      "cell_type": "markdown",
      "source": [
        "#**Assignment 5: Files, exceptional handling,logging and memory management**\n",
        "\n",
        "**Theory Questions :**\n",
        "\n",
        "**Q1. What is the difference between interpreted and compiled languages?**\n",
        "\n",
        "- Programming languages can be broadly divided into compiled and interpreted, based on how the source code is converted into machine code.\n",
        "\n",
        "**1. Compiled Languages**\n",
        "\n",
        "Process:\n",
        "- Source code → Compiler → Machine code (binary) → Executed directly by CPU.\n",
        "\n",
        "Execution speed:\n",
        "- Very fast because the program is already in machine language before running.\n",
        "\n",
        "Examples:\n",
        "- C, C++, Rust, Go.\n",
        "\n",
        "Analogy:\n",
        "- Like translating an entire book into Hindi before reading. Once translated, you can read it anytime without needing the translator again.\n",
        "\n",
        "**2. Interpreted Languages**\n",
        "\n",
        "Process:\n",
        "- Source code → Interpreter → Line-by-line execution.\n",
        "\n",
        "Execution speed:\n",
        "- Slower because translation happens during execution.\n",
        "\n",
        "Examples:\n",
        "- Python, JavaScript, Ruby.\n",
        "\n",
        "Analogy:\n",
        "- Like having a translator read each sentence aloud from English to Hindi while you listen. The translator is needed throughout the reading.\n",
        "\n",
        "\n",
        "**Tabular Difference :**\n",
        "\n",
        "| **Difference Points** | **Compiled Languages**                                           | **Interpreted Languages**                                                      |\n",
        "| --------------------- | ---------------------------------------------------------------- | ------------------------------------------------------------------------------ |\n",
        "| **Process**           | Source code → Compiler → Machine code → Executed directly by CPU | Source code → Interpreter → Line-by-line execution                             |\n",
        "| **Execution Speed**   | Very fast because it’s already in machine code                   | Slower because translation happens during execution                            |\n",
        "| **Error Detection**   | Errors detected before running (at compile time)                 | Errors detected while running (at runtime)                                     |\n",
        "| **Portability**       | Less portable; depends on the target machine                     | More portable; only requires an interpreter                                    |\n",
        "| **Examples**          | C, C++, Rust, Go                                                 | Python, JavaScript, Ruby                                                       |\n",
        "| **Usage Scenario**    | Suitable for performance-critical applications                   | Suitable for rapid development and scripting                                   |\n",
        "| **Analogy**           | Translate the whole book before reading → can read anytime       | Translator reads each sentence while you listen → translator needed throughout |\n",
        "| **Dependency**        | Doesn’t need the compiler once compiled                          | Needs the interpreter at runtime                                               |\n",
        "| **Memory Usage**      | Generally more memory-efficient                                  | May use more memory due to interpreter overhead                                |\n",
        "| **Development Speed** | Slower development cycle due to compilation                      | Faster development cycle with interactive testing                              |\n"
      ],
      "metadata": {
        "id": "yCTPkP4hMkYC"
      }
    },
    {
      "cell_type": "markdown",
      "source": [
        "**Q2. What is exception handling in Python?**\n",
        "\n",
        "- Exception Handling in Python is a way to manage errors that occur during the execution of a program.\n",
        "-  When something goes wrong — like dividing by zero or accessing a file that doesn't exist — Python raises an exception.\n",
        "- Exception handling allows you to catch these errors and respond gracefully instead of letting the program crash.\n",
        "\n",
        "**Key Points:**\n",
        "- Exception – An error that occurs during the execution of the program.\n",
        "- Handling Exceptions – Using Python's built-in keywords to catch and manage exceptions.\n",
        "\n",
        "**Purpose –**\n",
        "- Prevents the program from crashing.\n",
        "-  Allows you to take corrective actions\n",
        "-  Makes programs more robust and user-friendly\n",
        "\n",
        "**Common Exceptions –**\n",
        "- ZeroDivisionError, ValueError, FileNotFoundError, TypeError, etc.\n",
        "\n",
        "**How Exception Handling Works:**\n",
        "\n",
        "Python uses the following keywords:\n",
        "- try → Block of code that might cause an exception.\n",
        "- except → Code that runs if an exception occurs.\n",
        "- else → Code that runs if no exception occurs.\n",
        "- finally → Code that always runs, whether an exception occurred or not.\n",
        "\n",
        "**Example:**"
      ],
      "metadata": {
        "id": "UduKhVhkOwEW"
      }
    },
    {
      "cell_type": "code",
      "source": [
        "try:\n",
        "    num = int(input(\"Enter a number: \"))\n",
        "    result = 10 / num\n",
        "except ZeroDivisionError:\n",
        "    print(\"Error: You cannot divide by zero!\")\n",
        "except ValueError:\n",
        "    print(\"Error: Invalid input. Please enter a number.\")\n",
        "else:\n",
        "    print(\"Result is\", result)\n",
        "finally:\n",
        "    print(\"This block always executes.\")\n"
      ],
      "metadata": {
        "colab": {
          "base_uri": "https://localhost:8080/"
        },
        "id": "3xXFhix4Pjwc",
        "outputId": "c3b8d45c-65f9-4ed1-f589-200e1f7cef83"
      },
      "execution_count": 3,
      "outputs": [
        {
          "output_type": "stream",
          "name": "stdout",
          "text": [
            "Enter a number: 0\n",
            "Error: You cannot divide by zero!\n",
            "This block always executes.\n"
          ]
        }
      ]
    },
    {
      "cell_type": "markdown",
      "source": [
        "**Explanation:**\n",
        "- If the user enters 0, it will catch the ZeroDivisionError.\n",
        "- If the user enters text, it will catch the ValueError.\n",
        "- If everything is fine, it will print the result.\n",
        "- The finally block runs regardless of whether an error occurred or not."
      ],
      "metadata": {
        "id": "lIs645R7PxQE"
      }
    },
    {
      "cell_type": "markdown",
      "source": [
        "**Q3. What is the purpose of the finally block in exception handling?**\n",
        "\n",
        "- The finally block in Python is used to specify a set of actions that must be executed no matter what happens during the execution of the try block — whether an exception is raised or not.\n",
        "\n",
        "**Key Purposes of the finally Block :**\n",
        "\n",
        "1. Guaranteed Execution\n",
        "- The code inside the finally block always runs, regardless of whether an exception was raised or handled.\n",
        "\n",
        "2. Resource Cleanup\n",
        "- It's commonly used to release resources such as files, network connections, or database connections.\n",
        "\n",
        "3. Closing Operations\n",
        "- Ensures that essential actions like saving data, closing files, or releasing locks are performed.\n",
        "\n",
        "4. Program Stability\n",
        "- Helps maintain program integrity by ensuring that cleanup or other necessary final steps are always carried out.\n",
        "\n",
        "**Example:**"
      ],
      "metadata": {
        "id": "y0TgMAiHP3Cz"
      }
    },
    {
      "cell_type": "code",
      "source": [
        "try:\n",
        "  num = 10 / 0   #risky code\n",
        "except ZeroDivisionError:\n",
        "  print(\"Error: Division by zero.\")\n",
        "finally:\n",
        "  print(\"This will always run.\")"
      ],
      "metadata": {
        "colab": {
          "base_uri": "https://localhost:8080/"
        },
        "id": "67z4p6FGQcy2",
        "outputId": "6d481d0a-aa99-4974-87a3-be8f285f8c26"
      },
      "execution_count": 5,
      "outputs": [
        {
          "output_type": "stream",
          "name": "stdout",
          "text": [
            "Error: Division by zero.\n",
            "This will always run.\n"
          ]
        }
      ]
    },
    {
      "cell_type": "markdown",
      "source": [
        "**Explanation:**\n",
        "- The risky code inside the try block tries to divide 10 by 0, which causes a ZeroDivisionError.\n",
        "- Since the error occurs, the program jumps to the except block and prints the message \"Error: Division by zero.\" to handle the error.\n",
        "- Whether or not the error occurs, the finally block always runs. So after handling the exception, it prints \"This will always run.\", ensuring that any necessary final actions are performed."
      ],
      "metadata": {
        "id": "M36UbpJ1RAnE"
      }
    },
    {
      "cell_type": "markdown",
      "source": [
        "**Q4. What is logging in Python?**\n",
        "- Logging in Python is a way to track events, messages, or errors that happen while a program runs.\n",
        "- It helps to monitor, debug, and understand how a program behaves without stopping the execution or printing messages everywhere.\n",
        "\n",
        "**Key Points:**\n",
        "\n",
        "*Purpose of Logging:*\n",
        "- Helps record information about program execution.\n",
        "- Useful for debugging, tracking errors, and monitoring performance.\n",
        "- Provides detailed information without interrupting the user or program flow.\n",
        "\n",
        "*Why Use Logging Instead of Print Statements?*\n",
        "- Can record messages at different severity levels (info, warning, error, etc.).\n",
        "- Logs can be written to files, making it easier to review later.\n",
        "- Offers better control over what to log and how much detail to include.\n",
        "\n",
        "**Logging Levels**\n",
        "\n",
        "Python’s logging module has built-in levels to classify the importance of messages:\n",
        "\n",
        "1.DEBUG: Detailed information, useful during development.\n",
        "\n",
        "2.INFO: General information about program execution.\n",
        "\n",
        "3.WARNING: An indication something unexpected happened, but the program is still running.\n",
        "\n",
        "4.ERROR: Serious problem that prevents a function from working correctly.\n",
        "\n",
        "5.CRITICAL: Very serious errors that may cause the program to crash.\n",
        "\n",
        "**Example:**"
      ],
      "metadata": {
        "id": "ZNLGmaOtRJaj"
      }
    },
    {
      "cell_type": "code",
      "source": [
        "import logging\n",
        "\n",
        "# Configure logging to show all levels\n",
        "logging.basicConfig(level=logging.DEBUG, force=True)\n",
        "\n",
        "logging.debug(\"Debug message\")\n",
        "logging.info(\"Info message\")\n",
        "logging.warning(\"Warning message\")\n",
        "logging.error(\"Error message\")\n",
        "logging.critical(\"Critical message\")\n"
      ],
      "metadata": {
        "colab": {
          "base_uri": "https://localhost:8080/"
        },
        "id": "PyKGNCHoTrrE",
        "outputId": "2806b5d2-7f76-4997-f0fb-fd46972f42dd"
      },
      "execution_count": 82,
      "outputs": [
        {
          "output_type": "stream",
          "name": "stderr",
          "text": [
            "DEBUG:root:Debug message\n",
            "INFO:root:Info message\n",
            "WARNING:root:Warning message\n",
            "ERROR:root:Error message\n",
            "CRITICAL:root:Critical message\n"
          ]
        }
      ]
    },
    {
      "cell_type": "markdown",
      "source": [
        "**Q5. What is the significance of the __del__ method in Python?**\n",
        "\n",
        "- The__del__method in Python is a special method called a destructor.\n",
        "-  It is automatically invoked when an object is about to be destroyed or garbage collected, which usually happens when there are no more references to the object.\n",
        "- It is the opposite of the constructor (__init__). Think of__init__as \"birth of an object\" and__del__as \"last rites of an object\"\n",
        "\n",
        "**Significance of the __del__method:**\n",
        "\n",
        "1.Cleanup Resources:\n",
        "- It allows you to clean up resources like files, network connections, or memory before the object is removed from memory.\n",
        "\n",
        "2.Automatic Execution:\n",
        "- The__del__ method is automatically called by Python’s garbage collector when the object is no longer needed.\n",
        "\n",
        "3.Custom Finalization\n",
        "- You can define actions that need to happen when the object’s lifetime ends, such as logging, saving data, or releasing external resources.\n",
        "\n",
        "4.Helps Avoid Memory Leaks\n",
        "- Ensures that external resources are properly released, reducing the risk of memory or resource leaks.\n",
        "\n",
        "**Important Notes :**\n",
        "\n",
        "- You cannot guarantee exactly when the __del__ method will be called, because it depends on when Python's garbage collector decides to delete the object.\n",
        "\n",
        "- If there are circular references (objects referencing each other), Python’s garbage collector might not delete them automatically, or it may delay the deletion.\n",
        "\n",
        "- It’s better to use context managers (with statement) for resource cleanup when possible, as they provide more predictable behavior.\n",
        "\n",
        "**Example:**"
      ],
      "metadata": {
        "id": "VuszmVcpUMU7"
      }
    },
    {
      "cell_type": "code",
      "source": [
        "class MyClass:\n",
        "    def __init__(self, name):\n",
        "        self.name = name\n",
        "        print(f\"{self.name} is created.\")\n",
        "\n",
        "    def __del__(self):\n",
        "        print(f\"{self.name} is being destroyed.\")\n",
        "\n",
        "# Create an object\n",
        "obj = MyClass(\"TestObject\")\n",
        "\n",
        "# Delete the object manually\n",
        "del obj\n",
        "\n",
        "print(\"End of program\")\n"
      ],
      "metadata": {
        "colab": {
          "base_uri": "https://localhost:8080/"
        },
        "id": "AhtZvYUiVqEY",
        "outputId": "deb6a210-4ae7-4b63-a2f7-99f425e686b4"
      },
      "execution_count": 15,
      "outputs": [
        {
          "output_type": "stream",
          "name": "stdout",
          "text": [
            "TestObject is created.\n",
            "TestObject is being destroyed.\n",
            "End of program\n"
          ]
        }
      ]
    },
    {
      "cell_type": "markdown",
      "source": [
        "**Q6. What is the difference between import and from ... import in Python?**\n",
        "\n",
        "Python provides two common ways to include code from other modules or libraries:\n",
        "\n",
        "**1. import**\n",
        "\n",
        "- It imports the entire module.\n",
        "\n",
        "- You access its functions, classes, or variables using the module name as a prefix.\n",
        "\n",
        "**Example:**"
      ],
      "metadata": {
        "id": "Vr_84izvV2B_"
      }
    },
    {
      "cell_type": "code",
      "source": [
        "import math\n",
        "\n",
        "result = math.sqrt(16)\n",
        "print(result)  # Output: 4.0\n"
      ],
      "metadata": {
        "colab": {
          "base_uri": "https://localhost:8080/"
        },
        "id": "34KN9mTvWT0t",
        "outputId": "b3655695-cdaf-488e-ad5c-d47143e17f22"
      },
      "execution_count": 16,
      "outputs": [
        {
          "output_type": "stream",
          "name": "stdout",
          "text": [
            "4.0\n"
          ]
        }
      ]
    },
    {
      "cell_type": "markdown",
      "source": [
        "**Key Points:**\n",
        "- The whole module is imported.\n",
        "- You use module_name.item to access functions or variables.\n",
        "\n",
        "---\n",
        "\n",
        "\n",
        "\n",
        "\n",
        "**2. from ... import**\n",
        "\n",
        "- It imports specific functions, classes, or variables directly from the module.\n",
        "\n",
        "- You can use them without the module prefix.\n",
        "\n",
        "**Example:**"
      ],
      "metadata": {
        "id": "9sKQG0CwWXfC"
      }
    },
    {
      "cell_type": "code",
      "source": [
        "from math import sqrt\n",
        "\n",
        "result = sqrt(16)\n",
        "print(result)  # Output: 4.0\n"
      ],
      "metadata": {
        "colab": {
          "base_uri": "https://localhost:8080/"
        },
        "id": "7YS1wG-iWnFo",
        "outputId": "20d3147d-e1b7-49ae-dc5e-0c8fa9d056f5"
      },
      "execution_count": 17,
      "outputs": [
        {
          "output_type": "stream",
          "name": "stdout",
          "text": [
            "4.0\n"
          ]
        }
      ]
    },
    {
      "cell_type": "markdown",
      "source": [
        "**Key Points:**\n",
        "- Only selected items are imported.\n",
        "-  You can use them directly without the module name.\n",
        "\n",
        "\n",
        "**Tabular Difference:**\n",
        "\n",
        "| **Aspect**            | **import**                           | **from ... import**                                  |\n",
        "| --------------------- | ------------------------------------ | ---------------------------------------------------- |\n",
        "| **Importing**         | Imports the whole module             | Imports specific items from the module               |\n",
        "| **Accessing items**   | Use `module_name.item` format        | Use `item` directly                                  |\n",
        "| **Namespace control** | Avoids name conflicts easily         | Risk of name conflicts if multiple items share names |\n",
        "| **Readability**       | More explicit, easy to understand    | Cleaner and concise, but may obscure origin          |\n",
        "| **Memory use**        | Slightly larger, loads entire module | Slightly smaller, loads only required parts          |\n",
        "\n",
        "---\n",
        "\n",
        "\n",
        "\n",
        "\n",
        "**When to use which?**\n",
        "\n",
        "- Use import when you want to clearly see where functions or classes are coming from.\n",
        "- Use from ... import when you only need specific items and want cleaner code."
      ],
      "metadata": {
        "id": "Vy9irthQWuRp"
      }
    },
    {
      "cell_type": "markdown",
      "source": [
        "**Q7. How can you handle multiple exceptions in Python?**\n",
        "\n",
        "- In Python, you can handle multiple exceptions in several ways depending on your needs.\n",
        "- This ensures that your program can respond appropriately to different types of errors without crashing.\n",
        "\n",
        "---\n",
        "\n",
        "\n",
        "\n",
        "**1. Using Multiple Except Blocks**\n",
        "\n",
        "You can define a separate except block for each exception type.\n",
        "\n",
        "**Example:**"
      ],
      "metadata": {
        "id": "KVx-GkxRXEgI"
      }
    },
    {
      "cell_type": "code",
      "source": [
        "try:\n",
        "    num = int(input(\"Enter a number: \"))\n",
        "    result = 10 / num\n",
        "except ZeroDivisionError:\n",
        "    print(\"Error: Division by zero.\")\n",
        "except ValueError:\n",
        "    print(\"Error: Invalid input. Please enter a number.\")\n"
      ],
      "metadata": {
        "colab": {
          "base_uri": "https://localhost:8080/"
        },
        "id": "wEBU3YulXb6g",
        "outputId": "2b92f493-6b2f-4c56-b4c1-e1f5cfc2c0ec"
      },
      "execution_count": 21,
      "outputs": [
        {
          "output_type": "stream",
          "name": "stdout",
          "text": [
            "Enter a number: 0\n",
            "Error: Division by zero.\n"
          ]
        }
      ]
    },
    {
      "cell_type": "markdown",
      "source": [
        "This handles each exception type differently.\n",
        "\n",
        "\n",
        "---\n",
        "**2.Handling Multiple Exceptions in a Single Block**\n",
        "\n",
        "You can catch multiple exceptions together by specifying them as a tuple.\n",
        "\n",
        "**Example:**\n",
        "\n"
      ],
      "metadata": {
        "id": "4slakOs1X__c"
      }
    },
    {
      "cell_type": "code",
      "source": [
        "try:\n",
        "    num = int(input(\"Enter a number: \"))\n",
        "    result = 10 / num\n",
        "except (ZeroDivisionError, ValueError):\n",
        "    print(\"An error occurred: division by zero or invalid input.\")\n"
      ],
      "metadata": {
        "colab": {
          "base_uri": "https://localhost:8080/"
        },
        "id": "8jdIifUwYJdM",
        "outputId": "d5adf02a-2257-4b5d-bf50-2a4efa4f1262"
      },
      "execution_count": 22,
      "outputs": [
        {
          "output_type": "stream",
          "name": "stdout",
          "text": [
            "Enter a number: Siddhi\n",
            "An error occurred: division by zero or invalid input.\n"
          ]
        }
      ]
    },
    {
      "cell_type": "markdown",
      "source": [
        "Both exceptions are handled in one place.\n",
        "\n",
        "---\n",
        "**3.Using Exception Hierarchy**\n",
        "\n",
        "You can catch a base exception class to handle multiple related exceptions.\n",
        "\n",
        "**Example:**\n"
      ],
      "metadata": {
        "id": "IDOSsRCiYTCd"
      }
    },
    {
      "cell_type": "code",
      "source": [
        "try:\n",
        "    num = int(input(\"Enter a number: \"))\n",
        "    result = 10 / num\n",
        "except ArithmeticError:\n",
        "    print(\"Arithmetic error occurred.\")\n"
      ],
      "metadata": {
        "colab": {
          "base_uri": "https://localhost:8080/"
        },
        "id": "mG9Rt3wtYZIC",
        "outputId": "a5b984aa-55ba-4e60-e128-b027db1859b7"
      },
      "execution_count": 23,
      "outputs": [
        {
          "output_type": "stream",
          "name": "stdout",
          "text": [
            "Enter a number: 0\n",
            "Arithmetic error occurred.\n"
          ]
        }
      ]
    },
    {
      "cell_type": "markdown",
      "source": [
        "ArithmeticError is the base class for ZeroDivisionError, so it catches division errors.\n",
        "\n",
        "\n",
        "---\n",
        "\n",
        "**4.Using Else and Finally**\n",
        "\n",
        "You can also use else for code that runs if no exceptions occur, and finally for cleanup code.\n",
        "\n",
        "**Example:**"
      ],
      "metadata": {
        "id": "aA7Jt_8lYd4A"
      }
    },
    {
      "cell_type": "code",
      "source": [
        "try:\n",
        "    num = int(input(\"Enter a number: \"))\n",
        "    result = 10 / num\n",
        "except (ZeroDivisionError, ValueError) as e:\n",
        "    print(f\"An error occurred: {e}\")\n",
        "else:\n",
        "    print(\"Result is:\", result)\n",
        "finally:\n",
        "    print(\"This block always runs.\")\n"
      ],
      "metadata": {
        "colab": {
          "base_uri": "https://localhost:8080/"
        },
        "id": "ddYZNPh0Yjo3",
        "outputId": "b9857661-7378-4dcd-fd64-b7e672748d3d"
      },
      "execution_count": 28,
      "outputs": [
        {
          "output_type": "stream",
          "name": "stdout",
          "text": [
            "Enter a number: 5\n",
            "Result is: 2.0\n",
            "This block always runs.\n"
          ]
        }
      ]
    },
    {
      "cell_type": "markdown",
      "source": [
        "The else block executes only if no exception is raised.\n",
        "\n",
        "The finally block always executes.\n",
        "\n",
        "---\n",
        "**Summary**\n",
        "\n",
        "- Use multiple except blocks to handle exceptions separately.\n",
        "-  Use a single except block with a tuple to handle multiple exceptions together.\n",
        "- Use base exception classes to catch groups of related exceptions.\n",
        "-  Combine with else and finally blocks for better control.\n",
        "\n",
        "---\n",
        "\n",
        "\n",
        "\n"
      ],
      "metadata": {
        "id": "96WhIP4LYwK1"
      }
    },
    {
      "cell_type": "markdown",
      "source": [
        "**Q8. What is the purpose of the with statement when handling files in Python?**\n",
        "\n",
        "- The with statement in Python is used to simplify file handling by ensuring that resources like files are properly managed.\n",
        "- It automatically takes care of opening and closing the file, even if errors occur during file operations.\n",
        "\n",
        "---\n",
        "\n",
        "\n",
        "\n",
        "**Key Purposes:**\n",
        "\n",
        "1.Automatic Resource Management\n",
        "- The file is automatically closed after the block inside the with statement finishes, even if an exception is raised.\n",
        "\n",
        "2.Cleaner Code\n",
        "- You don’t need to explicitly write file.close() — Python handles it for you.\n",
        "\n",
        "3.Avoid Resource Leaks\n",
        "- Ensures that files are not left open, which could cause memory issues or file corruption.\n",
        "\n",
        "4.Better Exception Handling\n",
        "- Even if something goes wrong, Python ensures that the file is closed properly.\n",
        "\n",
        "---\n",
        "\n",
        "\n",
        "\n",
        "**Example without \"with\":**"
      ],
      "metadata": {
        "id": "x5o3uqccZBWC"
      }
    },
    {
      "cell_type": "code",
      "source": [
        "# Without 'with'\n",
        "\n",
        "# Writing in the file\n",
        "file = open(\"sample.txt\", \"w\")\n",
        "file.write(\"Hello, World!\")\n",
        "file.close()  # must close manually\n",
        "\n",
        "#Reading from the file\n",
        "file = open(\"sample.txt\", \"r\")\n",
        "try:\n",
        "    data = file.read()\n",
        "    print(data)\n",
        "finally:\n",
        "    file.close() #closing the file\n"
      ],
      "metadata": {
        "colab": {
          "base_uri": "https://localhost:8080/"
        },
        "id": "ZMwjcb1ZZtII",
        "outputId": "2b6ea3a3-7ec6-4879-fdd6-3b56facf391b"
      },
      "execution_count": 33,
      "outputs": [
        {
          "output_type": "stream",
          "name": "stdout",
          "text": [
            "Hello, World!\n"
          ]
        }
      ]
    },
    {
      "cell_type": "markdown",
      "source": [
        "**Explanation:**\n",
        "- You open the file, write to it, and manually close it.\n",
        "\n",
        "- This works fine but can be risky if an error occurs before file.close().\n",
        "\n",
        "- The try...finally ensures the file is always closed, even if an error occurs during reading.\n",
        "\n",
        "- This is the manual way of doing what with does automatically.\n",
        "\n",
        "---\n",
        "\n",
        "**Example with \"with\":**"
      ],
      "metadata": {
        "id": "qt0m00Bra7aQ"
      }
    },
    {
      "cell_type": "code",
      "source": [
        "# Writing in the file using 'with'\n",
        "with open(\"sample.txt\", \"w\") as file:\n",
        "    file.write(\"Hello, World!\")  # file auto-closes after block ends\n",
        "\n",
        "# Reading from the file using 'with'\n",
        "with open(\"sample.txt\", \"r\") as file:\n",
        "    data = file.read()\n",
        "    print(data)  # Output: Hello, World!\n"
      ],
      "metadata": {
        "colab": {
          "base_uri": "https://localhost:8080/"
        },
        "id": "kpZ26AiIbUkV",
        "outputId": "d7c7b030-95c1-47ff-a230-0feacd02af6e"
      },
      "execution_count": 35,
      "outputs": [
        {
          "output_type": "stream",
          "name": "stdout",
          "text": [
            "Hello, World!\n"
          ]
        }
      ]
    },
    {
      "cell_type": "markdown",
      "source": [
        "**Explanation**\n",
        "\n",
        "Writing with with:\n",
        "- The file is opened in write mode.\n",
        "- After writing, the file is automatically closed when the block ends.\n",
        "\n",
        "Reading with with:\n",
        "- The file is opened in read mode.\n",
        "- The file is automatically closed after reading, even if an error occurs."
      ],
      "metadata": {
        "id": "2-915HvjbqJU"
      }
    },
    {
      "cell_type": "markdown",
      "source": [
        "**Q9. What is the difference between multithreading and multiprocessing?**\n",
        "\n",
        "Python supports both multithreading and multiprocessing to perform multiple tasks concurrently, but they work differently.\n",
        "\n",
        "---\n",
        "\n",
        "\n",
        "\n",
        "**Difference:**\n",
        "\n",
        "| **Aspect**                        | **Multithreading**                                                                                   | **Multiprocessing**                                                 |\n",
        "| --------------------------------- | ---------------------------------------------------------------------------------------------------- | ------------------------------------------------------------------- |\n",
        "| **Definition**                    | Multiple threads run **within the same process**                                                     | Multiple processes run **independently** with separate memory space |\n",
        "| **Memory Sharing**                | Threads share the same memory space                                                                  | Each process has its own memory space                               |\n",
        "| **CPU Bound vs I/O Bound**        | Suitable for **I/O-bound tasks** (e.g., file reading, network requests)                              | Suitable for **CPU-bound tasks** (e.g., heavy computations)         |\n",
        "| **Global Interpreter Lock (GIL)** | Python GIL allows only **one thread to execute Python bytecode at a time**, limiting CPU parallelism | No GIL limitation; true parallel execution on multiple CPUs         |\n",
        "| **Communication**                 | Threads communicate easily using shared variables                                                    | Processes communicate using **IPC** (queues, pipes)                 |\n",
        "| **Overhead**                      | Less overhead; threads are lightweight                                                               | More overhead; processes are heavier to create                      |\n",
        "| **Fault Isolation**               | If one thread crashes, it may affect the whole process                                               | If one process crashes, other processes continue to run             |\n",
        "| **Examples in Python**            | `threading` module                                                                                   | `multiprocessing` module                                            |\n",
        "\n",
        "\n",
        "---\n",
        "\n",
        "\n",
        "\n",
        "**Analogy:**\n",
        "- Multithreading = Many workers in one kitchen sharing ingredients.\n",
        "- Multiprocessing = Many workers in different kitchens, each with their own ingredients.\n",
        "\n",
        "---\n",
        "**Example:**\n",
        "\n",
        "**Multithreading:**\n",
        "\n",
        "\n"
      ],
      "metadata": {
        "id": "obTC89uDb-o2"
      }
    },
    {
      "cell_type": "code",
      "source": [
        "import threading\n",
        "import time\n",
        "\n",
        "def print_numbers():\n",
        "    for i in range(1, 6):\n",
        "        print(f\"Number: {i}\")\n",
        "        time.sleep(1)\n",
        "\n",
        "def print_letters():\n",
        "    for letter in 'ABCDE':\n",
        "        print(f\"Letter: {letter}\")\n",
        "        time.sleep(1)\n",
        "\n",
        "# Create threads\n",
        "thread1 = threading.Thread(target=print_numbers)\n",
        "thread2 = threading.Thread(target=print_letters)\n",
        "\n",
        "# Start threads\n",
        "thread1.start()\n",
        "thread2.start()\n",
        "\n",
        "# Wait for threads to finish\n",
        "thread1.join()\n",
        "thread2.join()\n",
        "\n",
        "print(\"Multithreading Done!\")\n"
      ],
      "metadata": {
        "colab": {
          "base_uri": "https://localhost:8080/"
        },
        "id": "h-XcNmvmeVT1",
        "outputId": "43fd4dee-8fcb-4b21-e278-59f6fec0a1cf"
      },
      "execution_count": 50,
      "outputs": [
        {
          "output_type": "stream",
          "name": "stdout",
          "text": [
            "Number: 1\n",
            "Letter: A\n",
            "Number: 2\n",
            "Letter: B\n",
            "Number: 3\n",
            "Letter: C\n",
            "Number: 4\n",
            "Letter: D\n",
            "Number: 5\n",
            "Letter: E\n",
            "Multithreading Done!\n"
          ]
        }
      ]
    },
    {
      "cell_type": "markdown",
      "source": [
        "**Explanation:**\n",
        "\n",
        "Threads share the same memory space.\n",
        "\n",
        "Useful for I/O-bound tasks like file reading/writing or network requests.\n",
        "\n",
        "Runs concurrently but not in parallel due to Python’s GIL.\n",
        "\n",
        "---\n",
        "\n"
      ],
      "metadata": {
        "id": "OS5yHAjlfNB8"
      }
    },
    {
      "cell_type": "markdown",
      "source": [
        "**Multiprocessing:**"
      ],
      "metadata": {
        "id": "ysE0-PR4dU6j"
      }
    },
    {
      "cell_type": "code",
      "source": [
        "import multiprocessing\n",
        "import time\n",
        "\n",
        "def print_numbers():\n",
        "    for i in range(1, 6):\n",
        "        print(f\"Number: {i}\")\n",
        "        time.sleep(1)\n",
        "\n",
        "def print_letters():\n",
        "    for letter in 'ABCDE':\n",
        "        print(f\"Letter: {letter}\")\n",
        "        time.sleep(1)\n",
        "\n",
        "if __name__ == \"__main__\":\n",
        "    # Create processes\n",
        "    process1 = multiprocessing.Process(target=print_numbers)\n",
        "    process2 = multiprocessing.Process(target=print_letters)\n",
        "\n",
        "    # Start processes\n",
        "    process1.start()\n",
        "    process2.start()\n",
        "\n",
        "    # Wait for processes to finish\n",
        "    process1.join()\n",
        "    process2.join()\n",
        "\n",
        "    print(\"Multiprocessing Done!\")\n",
        "\n"
      ],
      "metadata": {
        "colab": {
          "base_uri": "https://localhost:8080/"
        },
        "id": "aIIvS-FOdWdV",
        "outputId": "5e937e31-8823-44df-8294-98c89f4bbaa1"
      },
      "execution_count": 51,
      "outputs": [
        {
          "output_type": "stream",
          "name": "stdout",
          "text": [
            "Number: 1\n",
            "Letter: A\n",
            "Number: 2\n",
            "Letter: B\n",
            "Number: 3\n",
            "Letter: C\n",
            "Number: 4\n",
            "Letter: D\n",
            "Number: 5\n",
            "Letter: E\n",
            "Multiprocessing Done!\n"
          ]
        }
      ]
    },
    {
      "cell_type": "markdown",
      "source": [
        "**Explanation:**\n",
        "\n",
        "Each process has its own memory space.\n",
        "\n",
        "Useful for CPU-bound tasks like heavy computations.\n",
        "\n",
        "Runs in parallel on multiple CPU cores.\n",
        "\n",
        "---\n",
        "\n"
      ],
      "metadata": {
        "id": "-E17PHbCfQgU"
      }
    },
    {
      "cell_type": "markdown",
      "source": [
        "**Q10. What are the advantages of using logging in a program?**\n",
        "\n",
        "- Logging is a way to record events, errors, and information about a program’s execution.\n",
        "\n",
        "- It is better than using print statements because it is more flexible and professional.\n",
        "\n",
        "---\n",
        "\n",
        "\n",
        "**Advantages of Logging:**\n",
        "\n",
        "1.Helps in Debugging\n",
        "- Logs provide a detailed record of what your program is doing.\n",
        "\n",
        "- Makes it easier to trace errors without stopping the program.\n",
        "\n",
        "- Example: You can log variable values, function calls, or exceptions.\n",
        "\n",
        "2 Keeps a Persistent Record\n",
        "\n",
        "- Unlike print(), logs can be written to files or external systems.\n",
        "\n",
        "- Useful for long-running programs or production applications where you can’t watch the console.\n",
        "\n",
        "3.Differentiates Severity Levels\n",
        "\n",
        "- Logging allows different levels: DEBUG, INFO, WARNING, ERROR, CRITICAL.\n",
        "\n",
        "- You can filter messages based on importance.\n",
        "\n",
        "- Example: Show only ERROR logs in production, but all logs in development.\n",
        "\n",
        "4.Helps in Monitoring and Maintenance\n",
        "\n",
        "- Logs can help monitor program behavior over time.\n",
        "\n",
        "- Useful for diagnosing issues in production without debugging live code.\n",
        "\n",
        "5.Avoids Cluttering Output\n",
        "\n",
        "- print() statements can clutter the console.\n",
        "\n",
        "- Logging allows structured, configurable output.\n",
        "\n",
        "6.Configurable\n",
        "\n",
        "- Logging can be sent to files, consoles, or remote servers.\n",
        "\n",
        "- Format, time stamps, and log rotation can all be configured.\n",
        "\n",
        "7.Supports Exception Tracking\n",
        "\n",
        "- You can log stack traces using logging.exception() for errors.\n",
        "\n",
        "- Makes it easier to trace exactly where an exception occurred.\n",
        "\n",
        "In short, logging is more flexible, persistent, and professional than using print() statements.\n",
        "\n",
        "---\n",
        "\n",
        "\n",
        "\n",
        "**Analogy:**\n",
        "- Logging is like keeping a diary of everything your program does,\n",
        "so you can look back and understand what went wrong.\n",
        "\n",
        "---\n",
        "\n",
        "\n",
        "\n",
        "\n",
        "**Logging Levels**\n",
        "\n",
        "Python’s logging module has built-in levels to classify the importance of messages:\n",
        "\n",
        "1.DEBUG: Detailed information, useful during development.\n",
        "\n",
        "2.INFO: General information about program execution.\n",
        "\n",
        "3.WARNING: An indication something unexpected happened, but the program is still running.\n",
        "\n",
        "4.ERROR: Serious problem that prevents a function from working correctly.\n",
        "\n",
        "5.CRITICAL: Very serious errors that may cause the program to crash.\n",
        "\n",
        "\n",
        "\n",
        "---\n",
        "\n",
        "\n",
        "**Example:**"
      ],
      "metadata": {
        "id": "WT6Xbh27fWxj"
      }
    },
    {
      "cell_type": "code",
      "source": [
        "import logging\n",
        "\n",
        "# Configure logging to show all levels\n",
        "logging.basicConfig(level=logging.DEBUG, force=True)\n",
        "\n",
        "logging.debug(\"Debug message\")\n",
        "logging.info(\"Info message\")\n",
        "logging.warning(\"Warning message\")\n",
        "logging.error(\"Error message\")\n",
        "logging.critical(\"Critical message\")\n"
      ],
      "metadata": {
        "colab": {
          "base_uri": "https://localhost:8080/"
        },
        "id": "VaVu_yc5hO_S",
        "outputId": "fe05bc7a-3530-40cb-fc33-9d9b6fbbe3b8"
      },
      "execution_count": 83,
      "outputs": [
        {
          "output_type": "stream",
          "name": "stderr",
          "text": [
            "DEBUG:root:Debug message\n",
            "INFO:root:Info message\n",
            "WARNING:root:Warning message\n",
            "ERROR:root:Error message\n",
            "CRITICAL:root:Critical message\n"
          ]
        }
      ]
    },
    {
      "cell_type": "markdown",
      "source": [
        "**Q11. What is memory management in Python?**\n",
        "\n",
        "**Memory Management in Python**\n",
        "\n",
        "Memory management in Python is the process of allocating and deallocating memory to objects in a program efficiently.\n",
        "\n",
        "Python automatically handles memory using several mechanisms:\n",
        "\n",
        "---\n",
        "\n",
        "**Key Points:**\n",
        "\n",
        "1.Automatic Memory Allocation:\n",
        "\n",
        "- Python automatically allocates memory when objects (like lists, strings, or custom objects) are created.\n",
        "\n",
        "2.Garbage Collection:\n",
        "\n",
        "- Python automatically frees memory of objects that are no longer in use (i.e., no references point to them).\n",
        "\n",
        "- Uses reference counting and a cyclic garbage collector for circular references.\n",
        "\n",
        "3.Memory Pools (Internal Optimization):\n",
        "\n",
        "- Python uses a private heap for memory management.\n",
        "\n",
        "- Objects are allocated from memory pools to reduce fragmentation and improve performance.\n",
        "\n",
        "4.Dynamic Typing Support:\n",
        "\n",
        "- Memory is managed flexibly because Python variables can change type, and objects can grow or shrink dynamically.\n",
        "\n",
        "---\n",
        "**Example:**\n"
      ],
      "metadata": {
        "id": "NPOzsS1YhdKJ"
      }
    },
    {
      "cell_type": "code",
      "source": [
        "import gc       # Import garbage collector module\n",
        "import sys      # Import sys module to check reference count\n",
        "\n",
        "class Demo:\n",
        "    # Destructor method called when object is destroyed\n",
        "    def __del__(self):\n",
        "        print(\"Object destroyed, memory freed.\")\n",
        "\n",
        "# Create an object of Demo\n",
        "obj = Demo()\n",
        "\n",
        "# Print reference count of obj\n",
        "# Includes the temporary reference used by getrefcount() itself\n",
        "print(\"Reference count of obj:\", sys.getrefcount(obj))\n",
        "\n",
        "# Create another reference pointing to the same object\n",
        "obj2 = obj\n",
        "print(\"Reference count after new reference:\", sys.getrefcount(obj))\n",
        "\n",
        "# Delete one reference\n",
        "del obj2\n",
        "print(\"Reference count after deleting one reference:\", sys.getrefcount(obj))\n",
        "\n",
        "# Delete the last reference and force garbage collection\n",
        "del obj\n",
        "gc.collect()  # Force Python to clean up unreferenced objects\n"
      ],
      "metadata": {
        "colab": {
          "base_uri": "https://localhost:8080/"
        },
        "id": "WrKtOwBMi5jB",
        "outputId": "6493cbe0-dea0-4d02-ed74-5d8fa810a530"
      },
      "execution_count": 61,
      "outputs": [
        {
          "output_type": "stream",
          "name": "stdout",
          "text": [
            "Reference count of obj: 2\n",
            "Reference count after new reference: 3\n",
            "Reference count after deleting one reference: 2\n",
            "Object destroyed, memory freed.\n"
          ]
        },
        {
          "output_type": "execute_result",
          "data": {
            "text/plain": [
              "6"
            ]
          },
          "metadata": {},
          "execution_count": 61
        }
      ]
    },
    {
      "cell_type": "markdown",
      "source": [
        "**Explanation:**\n",
        "\n",
        "1.import gc, sys → imports garbage collector and system modules.\n",
        "\n",
        "2.class Demo: → defines a class with a destructor __del__().\n",
        "\n",
        "3.obj = Demo() → creates an object; memory allocated automatically.\n",
        "\n",
        "4.sys.getrefcount(obj) → shows how many references point to the object (includes temporary reference).\n",
        "\n",
        "5.obj2 = obj → creates another reference; reference count increases.\n",
        "\n",
        "6.del obj2 → deletes one reference; reference count decreases.\n",
        "\n",
        "7.del obj → deletes last reference; object becomes unreferenced.\n",
        "\n",
        "8.gc.collect() → forces garbage collection; __del__() is called, memory freed.\n",
        "\n",
        "9.The extra number at the end (6) instead of the expected 2 or 3 is not an error.\n",
        "It comes from hidden references your Python environment keeps for convenience (like _ storing last result)."
      ],
      "metadata": {
        "id": "IoAyEGyHlZ1E"
      }
    },
    {
      "cell_type": "markdown",
      "source": [
        "**Q12. What are the basic steps involved in exception handling in Python?**\n",
        "\n",
        "Exception handling allows programs to handle errors gracefully instead of crashing.\n",
        "\n",
        "The basic steps are:\n",
        "1. try → Place risky code inside this block.\n",
        "2. except → Handles the error if it occurs.\n",
        "3. else → Runs if no error happens (optional).\n",
        "4. finally → Runs always (for cleanup, optional).\n",
        "\n",
        "Think of it like a safety net: If something goes wrong, your program falls safely into except .\n",
        "\n",
        "---\n",
        "\n",
        "**Example:**"
      ],
      "metadata": {
        "id": "sm4ZUH_1l2T-"
      }
    },
    {
      "cell_type": "code",
      "source": [
        "try:\n",
        "    num = int(input(\"Enter a number: \"))\n",
        "    result=10 / num\n",
        "except ValueError:\n",
        "    print(\"Invalid input!\")\n",
        "except ZeroDivisionError:\n",
        "    print(\"Cannot divide by zero!\")\n",
        "else:\n",
        "  print(\"Result:\",result)\n",
        "finally:\n",
        "    print(\"Execution complete.\")\n"
      ],
      "metadata": {
        "colab": {
          "base_uri": "https://localhost:8080/"
        },
        "id": "-iaX8xMemnjo",
        "outputId": "44905ef7-1884-4b83-ca1e-16ffb03e589c"
      },
      "execution_count": 65,
      "outputs": [
        {
          "output_type": "stream",
          "name": "stdout",
          "text": [
            "Enter a number: sid\n",
            "Invalid input!\n",
            "Execution complete.\n"
          ]
        }
      ]
    },
    {
      "cell_type": "markdown",
      "source": [
        "**Key Points:**\n",
        "- try → Write risky code.\n",
        "- except → Handle the error.\n",
        "- else → Runs if no exception.\n",
        "- finally → Always runs, good for cleanup.\n",
        "\n",
        "This is the basic workflow of exception handling in Python."
      ],
      "metadata": {
        "id": "k1vVTiBunLAD"
      }
    },
    {
      "cell_type": "markdown",
      "source": [
        "**Q13. Why is memory management important in Python?**\n",
        "\n",
        "Memory management ensures that Python programs use memory efficiently and safely.\n",
        "\n",
        "It prevents waste, avoids crashes, and keeps performance smooth.\n",
        "\n",
        "---\n",
        "**Importance:**\n",
        "1. Efficient Resource Use → Prevents memory wastage by reusing space.\n",
        "2. Program Stability → Avoids crashes due to \"out of memory\" errors.\n",
        "3. Automatic Garbage Collection → Frees unused objects automatically.\n",
        "4. Scalability → Important for big applications (AI, ML, Data Science) where large\n",
        "datasets are used.\n",
        "5. Security → Proper management prevents memory leaks or corruption.\n",
        "Without memory management, programs would slow down, consume too much RAM,\n",
        "and sometimes even crash the system.\n",
        "---\n",
        "**Example :**\n"
      ],
      "metadata": {
        "id": "f1VU0NsJnhW0"
      }
    },
    {
      "cell_type": "code",
      "source": [
        "import gc\n",
        "\n",
        "x = [i for i in range(1000000)]  # large memory usage\n",
        "print(\"Big list created.\")\n",
        "\n",
        "del x  # free memory\n",
        "gc.collect()  # force garbage collection\n",
        "print(\"Memory cleaned.\")\n"
      ],
      "metadata": {
        "colab": {
          "base_uri": "https://localhost:8080/"
        },
        "id": "w8JhBPtZoWqj",
        "outputId": "a6a57750-ef07-432e-8c7b-d8ef831443c2"
      },
      "execution_count": 66,
      "outputs": [
        {
          "output_type": "stream",
          "name": "stdout",
          "text": [
            "Big list created.\n",
            "Memory cleaned.\n"
          ]
        }
      ]
    },
    {
      "cell_type": "markdown",
      "source": [
        "**Key Point:**\n",
        "\n",
        "Memory management is important because it keeps Python programs fast, safe, and\n",
        "efficient,especially in large-scale applications."
      ],
      "metadata": {
        "id": "Vaa_XvFwofxl"
      }
    },
    {
      "cell_type": "markdown",
      "source": [
        "**Q14. What is the role of try and except in exception handling?**\n",
        "\n",
        "Role of try and except in Python exception handling:\n",
        "\n",
        "1. try block:\n",
        "- Contains the code that might raise an exception.\n",
        "\n",
        "2. except block:\n",
        "- Catches and handles the exception if one occurs in the try block.\n",
        "- Prevents the program from crashing and allows it to run gracefully.\n",
        "\n",
        "---\n",
        "**Analogy:**\n",
        "- try is like testing a new gadget carefully.\n",
        "- except is like the safety net that catches it if it breaks.\n",
        "\n",
        "---\n",
        "\n",
        "\n",
        "**Example:**"
      ],
      "metadata": {
        "id": "CH1xPFGtooir"
      }
    },
    {
      "cell_type": "code",
      "source": [
        "try:\n",
        "    num = int(\"abc\")  # risky code\n",
        "except ValueError:    #catches and handles the error\n",
        "    print(\"Error: Invalid conversion to integer.\")\n"
      ],
      "metadata": {
        "colab": {
          "base_uri": "https://localhost:8080/"
        },
        "id": "XcFSgAjzpJzT",
        "outputId": "3f3657b5-3e79-49e0-f56f-800dc84cd8eb"
      },
      "execution_count": 67,
      "outputs": [
        {
          "output_type": "stream",
          "name": "stdout",
          "text": [
            "Error: Invalid conversion to integer.\n"
          ]
        }
      ]
    },
    {
      "cell_type": "markdown",
      "source": [
        "**Explanation:**\n",
        "\n",
        "- try runs the risky code.\n",
        "\n",
        "- When a ValueError occurs, except handles it, printing an error message instead of crashing the program."
      ],
      "metadata": {
        "id": "OV0Ok9pGpdfC"
      }
    },
    {
      "cell_type": "markdown",
      "source": [
        "**Q15. How does Python's garbage collection system work?**\n",
        "\n",
        "Python’s garbage collection (GC) system automatically manages memory by tracking and freeing objects that are no longer in use.\n",
        "\n",
        "---\n",
        "**Key Points:**\n",
        "\n",
        "1.Reference Counting\n",
        "- Python keeps a count of references to each object.\n",
        "- When the reference count drops to zero (no references point to the object), the memory is freed automatically.\n",
        "\n",
        "2.Garbage Collector for Cycles\n",
        "\n",
        "- Reference counting cannot handle circular references (objects referencing each other).\n",
        "- Python’s gc module detects these cycles and collects them to free memory.\n",
        "\n",
        "3.Automatic and Manual Collection\n",
        "\n",
        "- Python runs garbage collection automatically in the background.\n",
        "- You can also trigger it manually using gc.collect().\n",
        "\n",
        "4.Destructor Method (__del__)\n",
        "- If defined, Python calls __del__() when an object is about to be destroyed.\n",
        "- Useful for cleanup actions (like closing files or releasing resources).\n",
        "\n",
        "---\n",
        "**Example:**"
      ],
      "metadata": {
        "id": "JiWpUYHIpjZ4"
      }
    },
    {
      "cell_type": "code",
      "source": [
        "import gc\n",
        "\n",
        "class Demo:\n",
        "    def __del__(self):\n",
        "        print(\"Object destroyed, memory freed.\")\n",
        "\n",
        "# Create object\n",
        "obj = Demo()\n",
        "\n",
        "# Delete object and force garbage collection\n",
        "del obj\n",
        "gc.collect()\n",
        "\n",
        "\n"
      ],
      "metadata": {
        "colab": {
          "base_uri": "https://localhost:8080/"
        },
        "id": "TWfYxgoPq1wA",
        "outputId": "903556c2-e445-4de7-9e6e-0178b594ef98"
      },
      "execution_count": 75,
      "outputs": [
        {
          "output_type": "stream",
          "name": "stdout",
          "text": [
            "Object destroyed, memory freed.\n"
          ]
        },
        {
          "output_type": "execute_result",
          "data": {
            "text/plain": [
              "6"
            ]
          },
          "metadata": {},
          "execution_count": 75
        }
      ]
    },
    {
      "cell_type": "markdown",
      "source": [
        "**Python’s Garbage Collection system works by:**\n",
        "- Counting references,\n",
        "- Cleaning up unused objects,\n",
        "- Using a generational GC for efficiency.\n",
        "\n",
        "This ensures memory is always managed automatically and safely"
      ],
      "metadata": {
        "id": "S2kSKOqQseEU"
      }
    },
    {
      "cell_type": "markdown",
      "source": [
        "**Q16.  What is the purpose of the else block in exception handling?**\n",
        "\n",
        "- The else block is used after the try block.\n",
        "- It runs only if no exception occurs inside try .\n",
        "- Helps separate error-handling code ( except ) from normal code ( else ).\n",
        "\n",
        "---\n",
        "**→ Think of it as:**\n",
        "\n",
        "try = risky work\n",
        "\n",
        "except = handle errors\n",
        "\n",
        "else = run extra code if everything was safe\n",
        "\n",
        "finally = cleanup (always runs)\n",
        "\n",
        "This makes the code clearer and more structured.\n",
        "\n",
        "---\n",
        "**Example Code :**"
      ],
      "metadata": {
        "id": "wAWnWsK5s30z"
      }
    },
    {
      "cell_type": "code",
      "source": [
        "try:\n",
        "  num = int(\"10\")   # safe code\n",
        "except ValueError:\n",
        "  print(\"Error: Invalid number.\")\n",
        "else:\n",
        "  print(\" Success! No error, so else block runs.\")\n",
        "finally:\n",
        "  print(\" Finally always runs.\")"
      ],
      "metadata": {
        "colab": {
          "base_uri": "https://localhost:8080/"
        },
        "id": "DtElvbTMteDL",
        "outputId": "68e259a5-ef4b-437c-ebc8-01697894a82e"
      },
      "execution_count": 77,
      "outputs": [
        {
          "output_type": "stream",
          "name": "stdout",
          "text": [
            " Success! No error, so else block runs.\n",
            " Finally always runs.\n"
          ]
        }
      ]
    },
    {
      "cell_type": "markdown",
      "source": [
        "**→ Key Point:**\n",
        "- else = runs only when no exception occurs.\n",
        "- Makes the program flow more organized and readable."
      ],
      "metadata": {
        "id": "KzLqAFyAtzPH"
      }
    },
    {
      "cell_type": "markdown",
      "source": [
        "**Q17. What are the common logging levels in Python?**\n",
        "\n",
        "Python’s logging module provides different levels of logging to indicate the importance/severity of messages.\n",
        "\n",
        "The common logging levels are:\n",
        "\n",
        "| Level        | Purpose / Description                                    |\n",
        "| ------------ | -------------------------------------------------------- |\n",
        "| **DEBUG**    | Detailed information, useful for diagnosing problems.    |\n",
        "| **INFO**     | General information about program execution.             |\n",
        "| **WARNING**  | Indicates something unexpected, but program continues.   |\n",
        "| **ERROR**    | A serious problem occurred; some functionality failed.   |\n",
        "| **CRITICAL** | Very serious error; program may not be able to continue. |\n",
        "\n",
        "\n",
        "\n",
        "---\n",
        "**Example:**\n"
      ],
      "metadata": {
        "id": "dFWfscGut36l"
      }
    },
    {
      "cell_type": "code",
      "source": [
        "import logging\n",
        "\n",
        "# Configure logging to show all levels\n",
        "logging.basicConfig(level=logging.DEBUG, force=True)\n",
        "\n",
        "logging.debug(\"Debug message\")\n",
        "logging.info(\"Info message\")\n",
        "logging.warning(\"Warning message\")\n",
        "logging.error(\"Error message\")\n",
        "logging.critical(\"Critical message\")\n"
      ],
      "metadata": {
        "colab": {
          "base_uri": "https://localhost:8080/"
        },
        "id": "9MKH4t-Guatl",
        "outputId": "fb3c2454-7cfc-4f0f-c445-db705ea4fefb"
      },
      "execution_count": 80,
      "outputs": [
        {
          "output_type": "stream",
          "name": "stderr",
          "text": [
            "DEBUG:root:Debug message\n",
            "INFO:root:Info message\n",
            "WARNING:root:Warning message\n",
            "ERROR:root:Error message\n",
            "CRITICAL:root:Critical message\n"
          ]
        }
      ]
    },
    {
      "cell_type": "markdown",
      "source": [
        "**Q18. What is the difference between os.fork() and multiprocessing in Python?**\n",
        "\n",
        "**1.os.fork() in Python**\n",
        "\n",
        "- Creates a child process by duplicating the current process.\n",
        "\n",
        "- Available only on Unix/Linux, not on Windows.\n",
        "\n",
        "- Returns 0 in the child process and the child PID in the parent process.\n",
        "\n",
        "- Low-level, requires manual management of resources and communication.\n",
        "\n",
        "- Can be tricky for beginners due to shared memory and inherited file descriptors.\n",
        "\n",
        "---\n",
        "\n",
        "**Example of os.fork() (Unix/Linux only):**"
      ],
      "metadata": {
        "id": "14-JfuWQvVgo"
      }
    },
    {
      "cell_type": "code",
      "source": [
        "import os\n",
        "\n",
        "pid = os.fork()\n",
        "if pid == 0:\n",
        "    print(\"Child process\")\n",
        "else:\n",
        "    print(\"Parent process, child PID:\", pid)"
      ],
      "metadata": {
        "colab": {
          "base_uri": "https://localhost:8080/"
        },
        "id": "f4fTK1e04PwR",
        "outputId": "40bb596f-c4ad-4008-e41f-b891122547cc"
      },
      "execution_count": 91,
      "outputs": [
        {
          "output_type": "stream",
          "name": "stdout",
          "text": [
            "Parent process, child PID: 44440\n"
          ]
        },
        {
          "output_type": "stream",
          "name": "stderr",
          "text": [
            "/tmp/ipython-input-307541809.py:3: DeprecationWarning: This process (pid=276) is multi-threaded, use of fork() may lead to deadlocks in the child.\n",
            "  pid = os.fork()\n"
          ]
        },
        {
          "output_type": "stream",
          "name": "stdout",
          "text": [
            "Child process"
          ]
        }
      ]
    },
    {
      "cell_type": "markdown",
      "source": [
        "**Explanation:**\n",
        "\n",
        "- Creates a child process by duplicating the current one.\n",
        "- Both processes continue from the same point in code.\n",
        "- You must manually manage communication and synchronization.\n",
        "\n",
        "\n",
        "---\n",
        "**2.Multiprocessing in Python:**\n",
        "- Provides a high-level API to create and manage processes.\n",
        "\n",
        "- Works cross-platform (Windows, Linux, macOS).\n",
        "\n",
        "- Supports Process class, Pool, and communication tools like Queue, Pipe, and Manager.\n",
        "\n",
        "- Easier and safer to use for parallel tasks.\n",
        "\n",
        "- Handles resource management and process termination automatically.\n",
        "\n",
        "---\n",
        "\n",
        "\n",
        "**Example of multiprocessing (works everywhere):**\n"
      ],
      "metadata": {
        "id": "8wz1Xwph4qka"
      }
    },
    {
      "cell_type": "code",
      "source": [
        "from multiprocessing import Process\n",
        "\n",
        "def worker():\n",
        "    print(\"Hello from child process\")\n",
        "\n",
        "if __name__ == '__main__':\n",
        "    p = Process(target=worker)\n",
        "    p.start()\n",
        "    p.join()"
      ],
      "metadata": {
        "colab": {
          "base_uri": "https://localhost:8080/"
        },
        "id": "qv0pG0T544gu",
        "outputId": "cfb26f6f-bd64-4451-b513-5171e7a8ae47"
      },
      "execution_count": 89,
      "outputs": [
        {
          "output_type": "stream",
          "name": "stdout",
          "text": [
            "Hello from child process\n"
          ]
        }
      ]
    },
    {
      "cell_type": "markdown",
      "source": [
        "**Explanation:**\n",
        "- Spawns a new process with a target function.\n",
        "- Handles process lifecycle and communication more cleanly.\n",
        "- Works across platforms and integrates well with Python’s ecosystem.\n",
        "\n",
        "---\n",
        "**Difference:**\n",
        "\n",
        "| Feature              | `os.fork()`                                                    | `multiprocessing` Module                                 |\n",
        "| -------------------- | -------------------------------------------------------------- | -------------------------------------------------------- |\n",
        "| **Platform**         | Unix/Linux only                                                | Cross-platform (Windows, Linux, macOS)                   |\n",
        "| **Process Creation** | Creates a child process by **duplicating the current process** | Creates a new process using **Process class**            |\n",
        "| **Ease of Use**      | Low-level, manual management needed                            | High-level, easy to create and manage processes          |\n",
        "| **Communication**    | Must use **pipes or shared memory manually**                   | Supports **Queue, Pipe, shared memory, Manager objects** |\n",
        "| **Safety**           | Can be tricky; may inherit unwanted resources                  | Safer and cleaner API for parallel tasks                 |\n",
        "| **Example**          | `pid = os.fork()`                                              | `p = multiprocessing.Process(target=func)`               |\n",
        "\n",
        "\n",
        "\n",
        "---\n",
        "\n",
        "**When to use what?**\n",
        "- Use multiprocessing for cross-platform, safe, and modern Python code.\n",
        "- Use os.fork() only if you need low-level control on Unix/Linux.\n"
      ],
      "metadata": {
        "id": "Hdl5gT5Q5BWw"
      }
    },
    {
      "cell_type": "markdown",
      "source": [
        "**Q19. What is the importance of closing a file in Python?**\n",
        "\n",
        "Closing a file in Python is more than just good manners—it’s essential for clean, efficient, and safe programming.\n",
        "\n",
        "---\n",
        "\n",
        "**Importance of closing a file in Python:**\n",
        "\n",
        "1.Frees system resources → Closing a file releases memory and file handles used by the operating system.\n",
        "\n",
        "2.Ensures data is saved → Data written to a file may be buffered; closing ensures it is actually written to disk.\n",
        "\n",
        "3.Prevents file corruption → Leaving a file open can lead to incomplete writes or corrupted data.\n",
        "\n",
        "4.Avoids reaching system limits → Most OS have a limit on the number of open files; closing files prevents hitting that limit.\n",
        "\n",
        "5.Good programming practice → Makes code cleaner and safer.\n",
        "\n",
        "---\n",
        "**Example:**"
      ],
      "metadata": {
        "id": "5YjcbHbb6WYd"
      }
    },
    {
      "cell_type": "code",
      "source": [
        "# Without 'with'\n",
        "file = open(\"example.txt\", \"w\")\n",
        "file.write(\"Hello, World!\")\n",
        "file.close()  # important to free resources.If not called, file may remain open and data may not be saved properly lor get corrupted\n",
        "\n"
      ],
      "metadata": {
        "id": "LhHf1eQ67I0a"
      },
      "execution_count": 92,
      "outputs": []
    },
    {
      "cell_type": "code",
      "source": [
        "# With 'with'(Using with automatically closes the file, making your code safer)\n",
        "with open(\"example.txt\", \"w\") as file:\n",
        "    file.write(\"Hello, World!\")\n",
        "# file is automatically closed here\n"
      ],
      "metadata": {
        "id": "Bh2nPCP-7ace"
      },
      "execution_count": 93,
      "outputs": []
    },
    {
      "cell_type": "markdown",
      "source": [
        "**→ Key Point:**\n",
        "\n",
        "Always close files to save data and free resources.\n",
        "\n",
        "Prefer using with open(...) because it is cleaner and safer."
      ],
      "metadata": {
        "id": "4oSADeZR7slH"
      }
    },
    {
      "cell_type": "markdown",
      "source": [
        "**Q20.  What is the difference between file.read() and file.readline() in Python?**\n",
        "\n",
        "In Python, both file.read() and file.readline() are the methods to read the data or content of the file.\n",
        "\n",
        "\n",
        "---\n",
        "**Definitions**\n",
        "\n",
        "file.read() → A method that reads the entire content of a file at once and returns it as a string.\n",
        "\n",
        "file.readline() → A method that reads one line at a time from a file and returns it as a string.\n",
        "\n",
        "---\n",
        "\n",
        "**Difference Between read() and readline()**\n",
        "\n",
        "| Feature              | `file.read()`                         | `file.readline()`                     |\n",
        "| -------------------- | ------------------------------------- | ------------------------------------- |\n",
        "| **Purpose**          | Reads the **whole file**              | Reads **one line**                    |\n",
        "| **Return Type**      | String containing all file content    | String containing a single line       |\n",
        "| **Pointer Movement** | Moves file pointer to **end of file** | Moves pointer to **next line**        |\n",
        "| **Memory Usage**     | Can be high for very large files      | More memory-efficient for large files |\n",
        "| **Use Case**         | When you need all data at once        | When reading a file line by line      |\n",
        "\n",
        "\n",
        "---\n",
        "**Example:**\n",
        "\n"
      ],
      "metadata": {
        "id": "ambiwilm7zMQ"
      }
    },
    {
      "cell_type": "code",
      "source": [
        "# Creating and writing to a file\n",
        "with open(\"sample_example.txt\", \"w\") as file:\n",
        "    file.write(\"Hii Siddhi!\\n\")  # Added newline for readability\n",
        "    file.write(\"How are you?\")\n",
        "\n",
        "\n",
        "# # Using read()\n",
        "with open(\"sample_example.txt\", \"r\") as file:\n",
        "    content = file.read()\n",
        "    print(\"Output using read():\")\n",
        "    print(content)  # prints entire file\n",
        "\n",
        "\n",
        "\n",
        "# # Using readline()\n",
        "with open(\"sample_example.txt\", \"r\") as file:\n",
        "    line = file.readline()\n",
        "    print(\"Output using readline():\")\n",
        "    print(line)     # prints only the first line\n"
      ],
      "metadata": {
        "colab": {
          "base_uri": "https://localhost:8080/"
        },
        "id": "V1lNBqr-9g4n",
        "outputId": "6bf46898-504f-40a2-fd00-6693ced96fb8"
      },
      "execution_count": 109,
      "outputs": [
        {
          "output_type": "stream",
          "name": "stdout",
          "text": [
            "Output using read():\n",
            "Hii Siddhi!\n",
            "How are you?\n",
            "Output using readline():\n",
            "Hii Siddhi!\n",
            "\n"
          ]
        }
      ]
    },
    {
      "cell_type": "markdown",
      "source": [
        "**Q21. What is the logging module in Python used for?**\n",
        "\n",
        "The logging module in Python is used to record messages about a program’s execution.\n",
        "\n",
        "---\n",
        "\n",
        "**Purpose / Uses:**\n",
        "\n",
        "- Track events: Helps track what happens while a program runs.\n",
        "\n",
        "- Debugging: Provides information to debug programs without using print().\n",
        "\n",
        "- Error monitoring: Logs errors, warnings, or critical events.\n",
        "\n",
        "- Record history: Saves program events to files, console, or other outputs.\n",
        "\n",
        "- Control output levels: Allows filtering messages by severity (DEBUG, INFO, WARNING, ERROR, CRITICAL).\n",
        "\n",
        "→ Unlike print() , logging is more flexible, professional, and suitable for real-world applications.\n",
        "\n",
        "---\n",
        "**Example:**\n"
      ],
      "metadata": {
        "id": "VaEpgCSh_c5M"
      }
    },
    {
      "cell_type": "code",
      "source": [
        "import logging\n",
        "\n",
        "# Configure logging to show all levels\n",
        "logging.basicConfig(level=logging.DEBUG, force=True)\n",
        "\n",
        "logging.debug(\"Debug message\")\n",
        "logging.info(\"Info message\")\n",
        "logging.warning(\"Warning message\")\n",
        "logging.error(\"Error message\")\n",
        "logging.critical(\"Critical message\")\n",
        "\n"
      ],
      "metadata": {
        "colab": {
          "base_uri": "https://localhost:8080/"
        },
        "id": "tsbnkzPv_7hq",
        "outputId": "b2e01b5d-8112-41a0-df18-32090ba15caf"
      },
      "execution_count": 110,
      "outputs": [
        {
          "output_type": "stream",
          "name": "stderr",
          "text": [
            "DEBUG:root:Debug message\n",
            "INFO:root:Info message\n",
            "WARNING:root:Warning message\n",
            "ERROR:root:Error message\n",
            "CRITICAL:root:Critical message\n"
          ]
        }
      ]
    },
    {
      "cell_type": "markdown",
      "source": [
        "\n",
        "**Key point:** logging is a professional way to monitor program execution instead of using print()."
      ],
      "metadata": {
        "id": "kgxCUCmuAJ2u"
      }
    },
    {
      "cell_type": "markdown",
      "source": [
        "**Q22. What is the os module in Python used for in file handling?**\n",
        "\n",
        "The os (Operating System) module in Python provides functions to interact with the\n",
        "operating system.\n",
        "\n",
        "In file handling, it is mainly used to:\n",
        "\n",
        "1.Create, remove, or rename files and directories\n",
        "\n",
        "- os.mkdir(), os.makedirs() → create directories\n",
        "\n",
        "- os.remove() → delete a file\n",
        "\n",
        "- os.rename() → rename a file or directory\n",
        "\n",
        "2.Check file or directory properties\n",
        "\n",
        "- os.path.exists() → check if a file/directory exists\n",
        "\n",
        "- os.path.isfile() → check if it’s a file\n",
        "\n",
        "- os.path.isdir() → check if it’s a directory\n",
        "\n",
        "3.Navigate directories\n",
        "\n",
        "- os.getcwd() → get current working directory\n",
        "\n",
        "- os.chdir() → change working directory\n",
        "\n",
        "- os.listdir() → list files and folders in a directory\n",
        "\n",
        "4.Get file information\n",
        "\n",
        "- os.path.getsize() → size of file\n",
        "\n",
        "- os.path.abspath() → absolute path of a file\n",
        "\n",
        "---\n",
        "\n",
        "**Example:**\n"
      ],
      "metadata": {
        "id": "jHYOdPyeANxL"
      }
    },
    {
      "cell_type": "code",
      "source": [
        "import os\n",
        "\n",
        "# Create a new directory\n",
        "os.mkdir(\"test_folder\")\n",
        "\n",
        "# Create a new file inside the folder\n",
        "with open(\"test_folder/test.txt\", \"w\") as f:\n",
        "    f.write(\"Hello, OS module!\")\n",
        "\n",
        "# List files inside the folder\n",
        "print(\"Files in 'test_folder':\", os.listdir(\"test_folder\"))\n",
        "\n",
        "# Rename the file\n",
        "os.rename(\"test_folder/test.txt\", \"test_folder/renamed_file.txt\")\n",
        "\n",
        "# Check if file exists\n",
        "print(\"Does renamed_file.txt exist?\", os.path.exists(\"test_folder/renamed_file.txt\"))\n",
        "\n",
        "# Remove the file\n",
        "os.remove(\"test_folder/renamed_file.txt\")\n",
        "\n",
        "# Remove the folder\n",
        "os.rmdir(\"test_folder\")\n"
      ],
      "metadata": {
        "colab": {
          "base_uri": "https://localhost:8080/"
        },
        "id": "IvlsIfLpFOnm",
        "outputId": "0b13e3d8-af3a-419b-db1f-e182b15d99ac"
      },
      "execution_count": 113,
      "outputs": [
        {
          "output_type": "stream",
          "name": "stdout",
          "text": [
            "Files in 'test_folder': ['test.txt']\n",
            "Does renamed_file.txt exist? True\n"
          ]
        }
      ]
    },
    {
      "cell_type": "markdown",
      "source": [
        "**Q23. What are the challenges associated with memory management in Python?**\n",
        "\n",
        "- Memory management in Python is mostly automatic, thanks to its built-in garbage collector and reference counting system—but that doesn’t mean it’s challenge-free.\n",
        "\n",
        "Here are the main challenges associated with memory management in Python:\n",
        "\n",
        "1.Circular References\n",
        "- Objects referencing each other can create reference cycles that simple reference counting cannot free automatically.\n",
        "- Example: a references b and b references a.\n",
        "\n",
        "2.Large Data Handling\n",
        "- Storing huge datasets (e.g., in AI/ML or data analysis) can consume lots of memory and slow down programs.\n",
        "\n",
        "3.Garbage Collection Overhead\n",
        "- Automatic garbage collection adds some performance overhead, especially for programs creating and deleting many objects frequently.\n",
        "\n",
        "4.Memory Leaks\n",
        "- Holding references unintentionally (e.g., in global variables or caches) can prevent memory from being freed.\n",
        "\n",
        "5.Fragmentation\n",
        "- Frequent allocation and deallocation of objects can lead to memory fragmentation, reducing efficient use of RAM.\n",
        "\n",
        "6.Non-deterministic Deallocation\n",
        "- Garbage collection may not free memory immediately; program behavior can vary, making timing-sensitive applications tricky.\n",
        "\n",
        "---\n",
        "\n",
        "\n",
        "\n",
        "**Summary:**\n",
        "\n",
        "Python handles memory automatically, but developers must still be careful with circular references, large data, and unnecessary references to avoid inefficiency or memory issues."
      ],
      "metadata": {
        "id": "RGGFGjMhFiHf"
      }
    },
    {
      "cell_type": "markdown",
      "source": [
        "**Q24. How do you raise an exception manually in Python?**\n",
        "\n",
        "- Raising an exception manually in Python is like saying, “Stop! Something’s wrong, and I want to handle it deliberately.”\n",
        "- In Python, you can manually raise exceptions using the raise keyword.\n",
        "- It allows you to signal errors deliberately in your program, which can then be handled using try-except.\n",
        "\n",
        "---\n",
        "**Syntax:**\n"
      ],
      "metadata": {
        "id": "vF3Zh8woGh_O"
      }
    },
    {
      "cell_type": "code",
      "source": [
        "raise ExceptionType(\"Error message\")\n",
        "\n",
        "# raise is a keyword\n",
        "# ExceptionType → any built-in or custom exception class (ValueError, TypeError, etc.)\n",
        "# \"Error message\" → optional descriptive message"
      ],
      "metadata": {
        "id": "b1F7kUzuHGw4"
      },
      "execution_count": null,
      "outputs": []
    },
    {
      "cell_type": "markdown",
      "source": [
        "**Example 1: Raising a built-in exception**"
      ],
      "metadata": {
        "id": "8F6Nz_9hHNpk"
      }
    },
    {
      "cell_type": "code",
      "source": [
        "x = -5\n",
        "\n",
        "if x < 0:\n",
        "    raise ValueError(\"x cannot be negative\")\n"
      ],
      "metadata": {
        "colab": {
          "base_uri": "https://localhost:8080/",
          "height": 176
        },
        "id": "MyToxGWaHaXN",
        "outputId": "173bd99a-772d-47fb-8622-12e10019b816"
      },
      "execution_count": 114,
      "outputs": [
        {
          "output_type": "error",
          "ename": "ValueError",
          "evalue": "x cannot be negative",
          "traceback": [
            "\u001b[0;31m---------------------------------------------------------------------------\u001b[0m",
            "\u001b[0;31mValueError\u001b[0m                                Traceback (most recent call last)",
            "\u001b[0;32m/tmp/ipython-input-1130654570.py\u001b[0m in \u001b[0;36m<cell line: 0>\u001b[0;34m()\u001b[0m\n\u001b[1;32m      2\u001b[0m \u001b[0;34m\u001b[0m\u001b[0m\n\u001b[1;32m      3\u001b[0m \u001b[0;32mif\u001b[0m \u001b[0mx\u001b[0m \u001b[0;34m<\u001b[0m \u001b[0;36m0\u001b[0m\u001b[0;34m:\u001b[0m\u001b[0;34m\u001b[0m\u001b[0;34m\u001b[0m\u001b[0m\n\u001b[0;32m----> 4\u001b[0;31m     \u001b[0;32mraise\u001b[0m \u001b[0mValueError\u001b[0m\u001b[0;34m(\u001b[0m\u001b[0;34m\"x cannot be negative\"\u001b[0m\u001b[0;34m)\u001b[0m\u001b[0;34m\u001b[0m\u001b[0;34m\u001b[0m\u001b[0m\n\u001b[0m",
            "\u001b[0;31mValueError\u001b[0m: x cannot be negative"
          ]
        }
      ]
    },
    {
      "cell_type": "markdown",
      "source": [
        "**Example 2: Raising a custom exception**"
      ],
      "metadata": {
        "id": "1PNf8oj0Hl6e"
      }
    },
    {
      "cell_type": "code",
      "source": [
        "class MyError(Exception):\n",
        "    pass\n",
        "\n",
        "raise MyError(\"This is a custom error\")\n"
      ],
      "metadata": {
        "colab": {
          "base_uri": "https://localhost:8080/",
          "height": 176
        },
        "id": "fYmfxYqnHnzj",
        "outputId": "b2310555-ff33-4246-87ee-19ead25622f0"
      },
      "execution_count": 115,
      "outputs": [
        {
          "output_type": "error",
          "ename": "MyError",
          "evalue": "This is a custom error",
          "traceback": [
            "\u001b[0;31m---------------------------------------------------------------------------\u001b[0m",
            "\u001b[0;31mMyError\u001b[0m                                   Traceback (most recent call last)",
            "\u001b[0;32m/tmp/ipython-input-1513909077.py\u001b[0m in \u001b[0;36m<cell line: 0>\u001b[0;34m()\u001b[0m\n\u001b[1;32m      2\u001b[0m     \u001b[0;32mpass\u001b[0m\u001b[0;34m\u001b[0m\u001b[0;34m\u001b[0m\u001b[0m\n\u001b[1;32m      3\u001b[0m \u001b[0;34m\u001b[0m\u001b[0m\n\u001b[0;32m----> 4\u001b[0;31m \u001b[0;32mraise\u001b[0m \u001b[0mMyError\u001b[0m\u001b[0;34m(\u001b[0m\u001b[0;34m\"This is a custom error\"\u001b[0m\u001b[0;34m)\u001b[0m\u001b[0;34m\u001b[0m\u001b[0;34m\u001b[0m\u001b[0m\n\u001b[0m",
            "\u001b[0;31mMyError\u001b[0m: This is a custom error"
          ]
        }
      ]
    },
    {
      "cell_type": "markdown",
      "source": [
        "**Explanation:**\n",
        "\n",
        "- MyError is a custom exception class.\n",
        "\n",
        "- raise MyError(\"...\") manually triggers the exception."
      ],
      "metadata": {
        "id": "K3bLgxN9HmBa"
      }
    },
    {
      "cell_type": "markdown",
      "source": [
        "**Q25. Why is it important to use multithreading in certain applications?**\n",
        "\n",
        "- Multithreading means running multiple threads (smaller units of a process)\n",
        "concurrently.\n",
        "- It is important in applications where tasks can be performed in parallel without waiting for each other.\n",
        "- Multithreading is like giving your application multiple hands to work with—each thread can handle a different task simultaneously, making your program faster, more responsive, and more efficient.\n",
        "\n",
        "\n",
        "---\n",
        "**Importance of using multithreading in certain applications:**\n",
        "\n",
        "1.Improves performance for I/O-bound tasks\n",
        "- Tasks like reading/writing files, network requests, or database operations can run concurrently without waiting for one another.\n",
        "\n",
        "2.Keeps programs responsive\n",
        "- In GUI applications or web servers, threads prevent the program from freezing while performing long tasks.\n",
        "\n",
        "3.Efficient resource usage\n",
        "- Multiple threads share the same memory space, making it lighter than creating multiple processes.\n",
        "\n",
        "4.Parallel execution\n",
        "- Threads can run multiple tasks seemingly at the same time, improving throughput in I/O-heavy applications.\n",
        "\n",
        "5.Simplifies program structure\n",
        "- Easier to manage tasks concurrently compared to manually splitting tasks into multiple processes or asynchronous code.\n",
        "\n",
        "---\n",
        "**Example:**\n",
        "\n"
      ],
      "metadata": {
        "id": "RyzM4JNwI_zB"
      }
    },
    {
      "cell_type": "code",
      "source": [
        "import threading\n",
        "import time\n",
        "\n",
        "def print_numbers():\n",
        "    for i in range(1, 6):\n",
        "        print(f\"Number: {i}\")\n",
        "        time.sleep(1)\n",
        "\n",
        "def print_letters():\n",
        "    for letter in 'ABCDE':\n",
        "        print(f\"Letter: {letter}\")\n",
        "        time.sleep(1)\n",
        "\n",
        "# Create threads\n",
        "thread1 = threading.Thread(target=print_numbers)\n",
        "thread2 = threading.Thread(target=print_letters)\n",
        "\n",
        "# Start threads\n",
        "thread1.start()\n",
        "thread2.start()\n",
        "\n",
        "# Wait for threads to finish\n",
        "thread1.join()\n",
        "thread2.join()\n",
        "\n",
        "print(\"Multithreading Done!\")"
      ],
      "metadata": {
        "colab": {
          "base_uri": "https://localhost:8080/"
        },
        "id": "FQSq49ylKXzU",
        "outputId": "989c1aab-5c90-4639-8d68-364d92829532"
      },
      "execution_count": 116,
      "outputs": [
        {
          "output_type": "stream",
          "name": "stdout",
          "text": [
            "Number: 1\n",
            "Letter: A\n",
            "Number: 2\n",
            "Letter: B\n",
            "Number: 3\n",
            "Letter: C\n",
            "Number: 4\n",
            "Letter: D\n",
            "Number: 5\n",
            "Letter: E\n",
            "Multithreading Done!\n"
          ]
        }
      ]
    },
    {
      "cell_type": "markdown",
      "source": [
        "**Example use cases:**\n",
        "\n",
        "-> Web servers handling multiple client requests simultaneously.\n",
        "\n",
        "-> File download managers downloading multiple files concurrently.\n",
        "\n",
        "-> GUI apps (like Tkinter) that remain responsive while performing background tasks."
      ],
      "metadata": {
        "id": "UuUbWgA8Kiy0"
      }
    },
    {
      "cell_type": "markdown",
      "source": [
        "#**Practical Questions**"
      ],
      "metadata": {
        "id": "3zyJCpAqKtnd"
      }
    },
    {
      "cell_type": "code",
      "source": [
        "#1. How can you open a file for writing in Python and write a string to it?\u001f\n",
        "\n",
        "# Writing a string to a file\n",
        "with open(\"file_handling.txt\", \"w\") as file:\n",
        "    file.write(\"Hello, Myself Siddhi Satpute !\\n\")\n",
        "    file.write(\"I am learning File Handling concepts\")\n",
        "\n",
        "print(\"String written successfully to file_handling.txt\")\n"
      ],
      "metadata": {
        "colab": {
          "base_uri": "https://localhost:8080/"
        },
        "id": "j13aWDp-K2bg",
        "outputId": "b6d5e624-5bf4-4f35-8d09-2ccd3e074291"
      },
      "execution_count": 119,
      "outputs": [
        {
          "output_type": "stream",
          "name": "stdout",
          "text": [
            "String written successfully to file_handling.txt\n"
          ]
        }
      ]
    },
    {
      "cell_type": "code",
      "source": [
        "#2. Write a Python program to read the contents of a file and print each line.\n",
        "\n",
        "# way 1\n",
        "with open(\"file_handling.txt\", \"r\") as file:\n",
        "    lines = file.readlines()\n",
        "    for line in lines:\n",
        "        print(line.strip())\n",
        "\n",
        "print()\n",
        "\n",
        "#Way 2\n",
        "with open(\"file_handling.txt\", \"r\") as file:\n",
        "    for line in file:       # reads line by line\n",
        "        print(line.strip())\n"
      ],
      "metadata": {
        "colab": {
          "base_uri": "https://localhost:8080/"
        },
        "id": "zVRDNVxTLYWL",
        "outputId": "4f0f7028-a63c-40c9-d661-8b2b5d2cabb0"
      },
      "execution_count": 125,
      "outputs": [
        {
          "output_type": "stream",
          "name": "stdout",
          "text": [
            "Hello, Myself Siddhi Satpute !\n",
            "I am learning File Handling concepts\n",
            "\n",
            "Hello, Myself Siddhi Satpute !\n",
            "I am learning File Handling concepts\n"
          ]
        }
      ]
    },
    {
      "cell_type": "code",
      "source": [
        "#3. How would you handle a case where the file doesn't exist while trying to open it for reading?\u001f\n",
        "\n",
        "try:\n",
        "    with open(\"nonexistent_file.txt\", \"r\") as file:\n",
        "        content = file.read()\n",
        "        print(content)\n",
        "except FileNotFoundError:\n",
        "    print(\"Error: The file does not exist.\")\n"
      ],
      "metadata": {
        "colab": {
          "base_uri": "https://localhost:8080/"
        },
        "id": "GnnQCw6UM6m-",
        "outputId": "adf8786a-e359-4a06-b6a5-5d06a7fef1ba"
      },
      "execution_count": 126,
      "outputs": [
        {
          "output_type": "stream",
          "name": "stdout",
          "text": [
            "Error: The file does not exist.\n"
          ]
        }
      ]
    },
    {
      "cell_type": "code",
      "source": [
        "#4. Write a Python script that reads from one file and writes its content to another file.\n",
        "\n",
        "# Open the source file in read mode\n",
        "with open(\"file_handling.txt\", \"r\") as source_file:\n",
        "    content = source_file.read()\n",
        "\n",
        "# Open the destination file in write mode\n",
        "with open(\"copy_example.txt\", \"w\") as dest_file:\n",
        "    dest_file.write(content)\n",
        "\n",
        "print(\"Content copied from file_handling.txt to copy_example.txt\")"
      ],
      "metadata": {
        "colab": {
          "base_uri": "https://localhost:8080/"
        },
        "id": "1hs9aYSENSnP",
        "outputId": "1f04633a-6828-457c-a88c-4fc3d37f8f66"
      },
      "execution_count": 127,
      "outputs": [
        {
          "output_type": "stream",
          "name": "stdout",
          "text": [
            "Content copied from file_handling.txt to copy_example.txt\n"
          ]
        }
      ]
    },
    {
      "cell_type": "code",
      "source": [
        "#5. How would you catch and handle division by zero error in Python?\n",
        "\n",
        "try:\n",
        "  num=int(input(\"Enter a number:\"))\n",
        "  result = 10 / num\n",
        "  print(\"Result =\",result)\n",
        "except ZeroDivisionError:\n",
        "    print(\"Error: Division by zero is not allowed.\")"
      ],
      "metadata": {
        "colab": {
          "base_uri": "https://localhost:8080/"
        },
        "id": "ii-bjcdjN9EM",
        "outputId": "370f734b-0794-4806-f7b5-e44bbb0eb33f"
      },
      "execution_count": 130,
      "outputs": [
        {
          "output_type": "stream",
          "name": "stdout",
          "text": [
            "Enter a number:0\n",
            "Error: Division by zero is not allowed.\n"
          ]
        }
      ]
    },
    {
      "cell_type": "code",
      "source": [
        "#6. Write a Python program that logs an error message to a log file when a division by zero exception occurs.\n",
        "\n",
        "import logging\n",
        "\n",
        "# Configure logging to write to a file\n",
        "logging.basicConfig(filename=\"error_log.txt\", level=logging.ERROR,\n",
        "                    format='%(asctime)s - %(levelname)s - %(message)s')\n",
        "\n",
        "try:\n",
        "    num=int(input(\"Enter a number:\"))\n",
        "    result = 10/num\n",
        "    print(result)\n",
        "except ZeroDivisionError:\n",
        "    logging.error(\"Division by zero occurred!\")\n",
        "    print(\"Error logged to error_log.txt\")"
      ],
      "metadata": {
        "colab": {
          "base_uri": "https://localhost:8080/"
        },
        "id": "miJ8FuLzObT4",
        "outputId": "345aee2d-7952-431f-989a-e31c147d9e8a"
      },
      "execution_count": 131,
      "outputs": [
        {
          "name": "stdout",
          "output_type": "stream",
          "text": [
            "Enter a number:0\n"
          ]
        },
        {
          "output_type": "stream",
          "name": "stderr",
          "text": [
            "ERROR:root:Division by zero occurred!\n"
          ]
        },
        {
          "output_type": "stream",
          "name": "stdout",
          "text": [
            "Error logged to error_log.txt\n"
          ]
        }
      ]
    },
    {
      "cell_type": "code",
      "source": [
        "#7. How do you log information at different levels (INFO, ERROR, WARNING) in Python using the logging module?\n",
        "\n",
        "import logging\n",
        "\n",
        "# Configure logging to write to a file\n",
        "logging.basicConfig(filename=\"error_log.txt\", level=logging.INFO,\n",
        "                    format='%(asctime)s - %(levelname)s - %(message)s')\n",
        "\n",
        "# Logging messages at different levels\n",
        "logging.info(\"This is an info message\")       # General information about program execution\n",
        "logging.warning(\"This is a warning message\")  # Something unexpected, but not fatal\n",
        "logging.error(\"This is an error message\")     # Serious problem, program may fail\n",
        "\n",
        "print(\"Messages logged to error_log.txt\")"
      ],
      "metadata": {
        "colab": {
          "base_uri": "https://localhost:8080/"
        },
        "id": "p8YfBK8APSdY",
        "outputId": "f06b4f3d-eec7-45a6-ff0a-9ddb5c0ff248"
      },
      "execution_count": 137,
      "outputs": [
        {
          "output_type": "stream",
          "name": "stderr",
          "text": [
            "INFO:root:This is an info message\n",
            "WARNING:root:This is a warning message\n",
            "ERROR:root:This is an error message\n"
          ]
        },
        {
          "output_type": "stream",
          "name": "stdout",
          "text": [
            "Messages logged to error_log.txt\n"
          ]
        }
      ]
    },
    {
      "cell_type": "code",
      "source": [
        "#8. Write a program to handle a file opening error using exception handling.\n",
        "\n",
        "try:\n",
        "    # Attempt to open a file that may not exist\n",
        "    with open(\"nonexistent_file.txt\", \"r\") as file:\n",
        "        content = file.read()\n",
        "        print(content)\n",
        "except FileNotFoundError:\n",
        "    print(\"Error: The file does not exist.\")\n"
      ],
      "metadata": {
        "colab": {
          "base_uri": "https://localhost:8080/"
        },
        "id": "ZkLH07dRQEdp",
        "outputId": "bdd41240-e5e7-45c6-af30-c5796d9377a4"
      },
      "execution_count": 138,
      "outputs": [
        {
          "output_type": "stream",
          "name": "stdout",
          "text": [
            "Error: The file does not exist.\n"
          ]
        }
      ]
    },
    {
      "cell_type": "code",
      "source": [
        "#9. How can you read a file line by line and store its content in a list in Python?\n",
        "\n",
        "with open(\"file_handling.txt\", \"r\") as file:\n",
        "    lines = file.readlines()        # Reads all lines into a list\n",
        "    lines = [line.strip() for line in lines]  # Remove newline characters\n",
        "\n",
        "print(lines)\n"
      ],
      "metadata": {
        "colab": {
          "base_uri": "https://localhost:8080/"
        },
        "id": "HEs9nF9SRQfv",
        "outputId": "c8c6a229-b530-4bb4-bf4f-841a65dd7ea1"
      },
      "execution_count": 146,
      "outputs": [
        {
          "output_type": "stream",
          "name": "stdout",
          "text": [
            "['Hello, Myself Siddhi Satpute !', 'I am learning File Handling concepts']\n"
          ]
        }
      ]
    },
    {
      "cell_type": "code",
      "source": [
        "#10. How can you append data to an existing file in Python?\n",
        "# Open the file in append mode\n",
        "with open(\"file_handling.txt\", \"a\") as file:\n",
        "    file.write(\"\\nThis line is appended to the file.\")\n",
        "\n",
        "print(\"Data appended successfully to file_handling.txt\")\n"
      ],
      "metadata": {
        "colab": {
          "base_uri": "https://localhost:8080/"
        },
        "id": "N8xRearVSUtn",
        "outputId": "f1efbefc-8081-4b8d-db58-457b833e4761"
      },
      "execution_count": 147,
      "outputs": [
        {
          "output_type": "stream",
          "name": "stdout",
          "text": [
            "Data appended successfully to file_handling.txt\n"
          ]
        }
      ]
    },
    {
      "cell_type": "code",
      "source": [
        "#11. Write a Python program that uses a try-except block to handle an error when attempting to access a dictionary key that doesn't exist?\n",
        "\n",
        "my_dict = {\"name\": \"Siddhi\", \"age\": 21}\n",
        "\n",
        "try:\n",
        "    # Attempt to access a key that doesn't exist\n",
        "    print(my_dict[\"city\"])\n",
        "except KeyError:\n",
        "    print(\"Error: The key does not exist in the dictionary.\")"
      ],
      "metadata": {
        "colab": {
          "base_uri": "https://localhost:8080/"
        },
        "id": "15TgCI9DSrPJ",
        "outputId": "9452ef32-f873-4efb-e553-0c2c99135648"
      },
      "execution_count": 148,
      "outputs": [
        {
          "output_type": "stream",
          "name": "stdout",
          "text": [
            "Error: The key does not exist in the dictionary.\n"
          ]
        }
      ]
    },
    {
      "cell_type": "code",
      "source": [
        "#12. Write a program that demonstrates using multiple except blocks to handle different types of exceptions?\n",
        "\n",
        "try:\n",
        "    num1 = int(input(\"Enter the first number: \"))\n",
        "    num2 = int(input(\"Enter the second number: \"))\n",
        "    result = num1 / num2\n",
        "    print(\"Result:\", result)\n",
        "\n",
        "except ValueError:\n",
        "    print(\"Error: Please enter valid integers.\")\n",
        "\n",
        "except ZeroDivisionError:\n",
        "    print(\"Error: Cannot divide by zero.\")\n",
        "\n",
        "except Exception as e:\n",
        "    print(\"An unexpected error occurred:\", e)\n"
      ],
      "metadata": {
        "colab": {
          "base_uri": "https://localhost:8080/"
        },
        "id": "BKyUg48MS9KW",
        "outputId": "eedad9fb-527e-4872-c5f4-7adc273e3d1a"
      },
      "execution_count": 151,
      "outputs": [
        {
          "output_type": "stream",
          "name": "stdout",
          "text": [
            "Enter the first number: 10\n",
            "Enter the second number: 0\n",
            "Error: Cannot divide by zero.\n"
          ]
        }
      ]
    },
    {
      "cell_type": "code",
      "source": [
        "#13. How would you check if a file exists before attempting to read it in Python?\n",
        "\n",
        "import os\n",
        "\n",
        "filename = \"file_handling.txt\"\n",
        "\n",
        "if os.path.exists(filename):\n",
        "    with open(filename, \"r\") as file:\n",
        "        content = file.read()\n",
        "        print(content)\n",
        "else:\n",
        "    print(f\"Error: {filename} does not exist.\")\n"
      ],
      "metadata": {
        "colab": {
          "base_uri": "https://localhost:8080/"
        },
        "id": "a7Bt-VpCTWSn",
        "outputId": "f723fe03-cf65-4831-c7ab-e3643b960a61"
      },
      "execution_count": 152,
      "outputs": [
        {
          "output_type": "stream",
          "name": "stdout",
          "text": [
            "Hello, Myself Siddhi Satpute !\n",
            "I am learning File Handling concepts\n",
            "This line is appended to the file.\n"
          ]
        }
      ]
    },
    {
      "cell_type": "code",
      "source": [
        "#14. Write a program that uses the logging module to log both informational and error messages.\n",
        "\n",
        "import logging\n",
        "\n",
        "# Configure logging to write to a file\n",
        "logging.basicConfig(filename=\"error_log.txt\", level=logging.DEBUG,\n",
        "                    format='%(asctime)s - %(levelname)s - %(message)s')\n",
        "\n",
        "# Log informational message\n",
        "logging.info(\"This is an informational message.\")\n",
        "\n",
        "# Log error message\n",
        "logging.error(\"This is an error message.\")\n",
        "\n",
        "print(\"Informational and error messages have been logged to error_log.txt\")"
      ],
      "metadata": {
        "colab": {
          "base_uri": "https://localhost:8080/"
        },
        "id": "VFGzZXtfTy_B",
        "outputId": "735729ef-2cc9-415b-ff4b-1a7362d9cfbc"
      },
      "execution_count": 153,
      "outputs": [
        {
          "output_type": "stream",
          "name": "stderr",
          "text": [
            "INFO:root:This is an informational message.\n",
            "ERROR:root:This is an error message.\n"
          ]
        },
        {
          "output_type": "stream",
          "name": "stdout",
          "text": [
            "Informational and error messages have been logged to error_log.txt\n"
          ]
        }
      ]
    },
    {
      "cell_type": "code",
      "source": [
        "#15. Write a Python program that prints the content of a file and handles the case when the file is empty.\n",
        "\n",
        "filename = \"file_handling.txt\"\n",
        "\n",
        "try:\n",
        "    with open(filename, \"r\") as file:\n",
        "        content = file.read()\n",
        "        if content:  # Check if the file has content\n",
        "            print(\"File content:\")\n",
        "            print(content)\n",
        "        else:\n",
        "            print(\"The file is empty.\")\n",
        "except FileNotFoundError:\n",
        "    print(f\"Error: The file '{filename}' does not exist.\")\n"
      ],
      "metadata": {
        "colab": {
          "base_uri": "https://localhost:8080/"
        },
        "id": "qDccFhjoUprQ",
        "outputId": "267b0170-94b0-4418-83a1-c2cc06d9c92d"
      },
      "execution_count": 156,
      "outputs": [
        {
          "output_type": "stream",
          "name": "stdout",
          "text": [
            "File content:\n",
            "Hello, Myself Siddhi Satpute !\n",
            "I am learning File Handling concepts\n",
            "This line is appended to the file.\n"
          ]
        }
      ]
    },
    {
      "cell_type": "code",
      "source": [
        "#16. Demonstrate how to use memory profiling to check the memory usage of a small program.\n",
        "\n",
        "# Step 1: Install memory-profiler (only run once in your environment)\n",
        "!pip install memory-profiler\n",
        "\n",
        "# Step 2: Import the module\n",
        "from memory_profiler import memory_usage\n",
        "\n",
        "# Step 3: Define a small function\n",
        "def create_list():\n",
        "    my_list = [i for i in range(100000)]  # creates a list of 100,000 numbers\n",
        "    return my_list\n",
        "\n",
        "# Step 4: Measure memory usage while executing the function\n",
        "mem_usage = memory_usage(create_list)\n",
        "\n",
        "print(\"Memory usage (in MB) during execution:\", mem_usage)\n"
      ],
      "metadata": {
        "colab": {
          "base_uri": "https://localhost:8080/"
        },
        "id": "8F5MWskLVPh_",
        "outputId": "2dffca15-d852-4e12-a014-6993e410f4db"
      },
      "execution_count": 157,
      "outputs": [
        {
          "output_type": "stream",
          "name": "stdout",
          "text": [
            "Collecting memory-profiler\n",
            "  Downloading memory_profiler-0.61.0-py3-none-any.whl.metadata (20 kB)\n",
            "Requirement already satisfied: psutil in /usr/local/lib/python3.12/dist-packages (from memory-profiler) (5.9.5)\n",
            "Downloading memory_profiler-0.61.0-py3-none-any.whl (31 kB)\n",
            "Installing collected packages: memory-profiler\n",
            "Successfully installed memory-profiler-0.61.0\n",
            "Memory usage (in MB) during execution: [185.734375, 185.76171875, 185.76171875, 185.890625, 186.30859375, 186.30859375, 186.30859375, 186.30859375]\n"
          ]
        }
      ]
    },
    {
      "cell_type": "code",
      "source": [
        "#17.  Write a Python program to create and write a list of numbers to a file, one number per line\n",
        "\n",
        "# List of numbers\n",
        "numbers = [1, 2, 3, 4, 5, 6, 7, 8, 9, 10]\n",
        "\n",
        "# Open the file in write mode\n",
        "with open(\"numbers.txt\", \"w\") as file:\n",
        "    for number in numbers:\n",
        "        file.write(f\"{number}\\n\")  # Write each number followed by a newline\n",
        "\n",
        "print(\"Numbers have been written to numbers.txt\")\n"
      ],
      "metadata": {
        "colab": {
          "base_uri": "https://localhost:8080/"
        },
        "id": "V6UR-NcYWUq3",
        "outputId": "fe1c4ded-fec1-4baa-ec28-690d35072506"
      },
      "execution_count": 158,
      "outputs": [
        {
          "output_type": "stream",
          "name": "stdout",
          "text": [
            "Numbers have been written to numbers.txt\n"
          ]
        }
      ]
    },
    {
      "cell_type": "code",
      "source": [
        "#18. How would you implement a basic logging setup that logs to a file with rotation after 1MB?\n",
        "\n",
        "import logging\n",
        "from logging.handlers import RotatingFileHandler\n",
        "\n",
        "# Create a logger\n",
        "logger = logging.getLogger(\"MyLogger\")\n",
        "logger.setLevel(logging.DEBUG)  # Capture all levels\n",
        "\n",
        "# Create a rotating file handler\n",
        "handler = RotatingFileHandler(\n",
        "    \"app.log\",       # Log file name\n",
        "    maxBytes=1*1024*1024,  # 1MB size limit\n",
        "    backupCount=3    # Keep up to 3 backup files\n",
        ")\n",
        "\n",
        "# Create a formatter and set it for the handler\n",
        "formatter = logging.Formatter('%(asctime)s - %(levelname)s - %(message)s')\n",
        "handler.setFormatter(formatter)\n",
        "\n",
        "# Add the handler to the logger\n",
        "logger.addHandler(handler)\n",
        "\n",
        "# Example logging\n",
        "logger.debug(\"This is a debug message.\")\n",
        "logger.info(\"This is an info message.\")\n",
        "logger.warning(\"This is a warning message.\")\n",
        "logger.error(\"This is an error message.\")\n",
        "logger.critical(\"This is a critical message.\")\n"
      ],
      "metadata": {
        "colab": {
          "base_uri": "https://localhost:8080/"
        },
        "id": "CUKv9mIpW0kI",
        "outputId": "c5522488-ed5d-40c1-adb8-61ff2466f3fd"
      },
      "execution_count": 159,
      "outputs": [
        {
          "output_type": "stream",
          "name": "stderr",
          "text": [
            "DEBUG:MyLogger:This is a debug message.\n",
            "INFO:MyLogger:This is an info message.\n",
            "WARNING:MyLogger:This is a warning message.\n",
            "ERROR:MyLogger:This is an error message.\n",
            "CRITICAL:MyLogger:This is a critical message.\n"
          ]
        }
      ]
    },
    {
      "cell_type": "code",
      "source": [
        "#19. Write a program that handles both IndexError and KeyError using a try-except block.\n",
        "\n",
        "try:\n",
        "    # Example list and dictionary\n",
        "    my_list = [10, 20, 30]\n",
        "    my_dict = {\"name\": \"Siddhi\",\"age\":21}\n",
        "\n",
        "    # Access an invalid index\n",
        "    print(\"Accessing list element:\", my_list[5])\n",
        "\n",
        "    # Access a missing key\n",
        "    print(\"Accessing dictionary key:\", my_dict[\"age\"])\n",
        "\n",
        "except IndexError:\n",
        "    print(\"Error: Tried to access an invalid index in the list.\")\n",
        "\n",
        "except KeyError:\n",
        "    print(\"Error: Tried to access a key that doesn't exist in the dictionary.\")\n",
        "\n"
      ],
      "metadata": {
        "colab": {
          "base_uri": "https://localhost:8080/"
        },
        "id": "YhHXWBwZXrPy",
        "outputId": "c7c02293-c62a-476c-876b-6b45e772d04e"
      },
      "execution_count": 162,
      "outputs": [
        {
          "output_type": "stream",
          "name": "stdout",
          "text": [
            "Error: Tried to access an invalid index in the list.\n"
          ]
        }
      ]
    },
    {
      "cell_type": "code",
      "source": [
        "#20. How would you open a file and read its contents using a context manager in Python?\n",
        "\n",
        "# Open the file in read mode using a context manager\n",
        "with open(\"file_handling.txt\", \"r\") as file:\n",
        "    content = file.read()  # Read the entire file content\n",
        "\n",
        "print(\"File content:\")\n",
        "print(content)\n"
      ],
      "metadata": {
        "colab": {
          "base_uri": "https://localhost:8080/"
        },
        "id": "ml8PVVqtYSuX",
        "outputId": "e0571568-67c5-402b-fa77-1a15e029de77"
      },
      "execution_count": 163,
      "outputs": [
        {
          "output_type": "stream",
          "name": "stdout",
          "text": [
            "File content:\n",
            "Hello, Myself Siddhi Satpute !\n",
            "I am learning File Handling concepts\n",
            "This line is appended to the file.\n"
          ]
        }
      ]
    },
    {
      "cell_type": "code",
      "source": [
        "#21. Write a Python program that reads a file and prints the number of occurrences of a specific word.\n",
        "\n",
        "# Word to search for\n",
        "search_word = \"File\"\n",
        "\n",
        "# Open the file in read mode\n",
        "with open(\"file_handling.txt\", \"r\") as file:\n",
        "    content = file.read()\n",
        "\n",
        "# Count occurrences of the word (case-sensitive)\n",
        "count = content.split().count(search_word)\n",
        "\n",
        "print(f\"The word '{search_word}' occurs {count} times in the file.\")\n"
      ],
      "metadata": {
        "colab": {
          "base_uri": "https://localhost:8080/"
        },
        "id": "G1qudW1DYk2h",
        "outputId": "3d00652a-b6f6-4459-cfff-2f9baf969d99"
      },
      "execution_count": 168,
      "outputs": [
        {
          "output_type": "stream",
          "name": "stdout",
          "text": [
            "The word 'File' occurs 1 times in the file.\n"
          ]
        }
      ]
    },
    {
      "cell_type": "code",
      "source": [
        "#22. How can you check if a file is empty before attempting to read its contents?\n",
        "\n",
        "file_name = \"file_handling.txt\"\n",
        "\n",
        "try:\n",
        "    with open(file_name, \"r\") as file:\n",
        "        content = file.read()\n",
        "        if content:  # Check if file has content\n",
        "            print(\"File content:\")\n",
        "            print(content)\n",
        "        else:\n",
        "            print(\"The file is empty.\")\n",
        "except FileNotFoundError:\n",
        "    print(\"Error: The file does not exist.\")\n"
      ],
      "metadata": {
        "colab": {
          "base_uri": "https://localhost:8080/"
        },
        "id": "pMAmwsRVZUWY",
        "outputId": "b8c791a6-518f-4ccd-9d37-dc9cc256e4e9"
      },
      "execution_count": 169,
      "outputs": [
        {
          "output_type": "stream",
          "name": "stdout",
          "text": [
            "File content:\n",
            "Hello, Myself Siddhi Satpute !\n",
            "I am learning File Handling concepts\n",
            "This line is appended to the file.\n"
          ]
        }
      ]
    },
    {
      "cell_type": "code",
      "source": [
        "#23. Write a Python program that writes to a log file when an error occurs during file handling.\n",
        "\n",
        "import logging\n",
        "\n",
        "# Configure logging to write to a file\n",
        "logging.basicConfig(filename=\"error_log.txt\", level=logging.ERROR,\n",
        "                    format='%(asctime)s - %(levelname)s - %(message)s')\n",
        "\n",
        "file_name = \"non_existing_file.txt\"\n",
        "\n",
        "try:\n",
        "    with open(file_name, \"r\") as file:\n",
        "        content = file.read()\n",
        "except FileNotFoundError as e:\n",
        "    logging.error(f\"Error occurred: {e}\")\n",
        "    print(\"Error logged to error_log.txt\")\n"
      ],
      "metadata": {
        "colab": {
          "base_uri": "https://localhost:8080/"
        },
        "id": "OJmeR-4NaQOR",
        "outputId": "8389febb-a705-4592-b914-5bbb803bb8f7"
      },
      "execution_count": 171,
      "outputs": [
        {
          "output_type": "stream",
          "name": "stderr",
          "text": [
            "ERROR:root:Error occurred: [Errno 2] No such file or directory: 'non_existing_file.txt'\n"
          ]
        },
        {
          "output_type": "stream",
          "name": "stdout",
          "text": [
            "Error logged to error_log.txt\n"
          ]
        }
      ]
    }
  ]
}